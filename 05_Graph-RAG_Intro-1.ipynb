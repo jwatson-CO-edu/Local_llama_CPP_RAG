{
 "cells": [
  {
   "cell_type": "markdown",
   "id": "f90a2fda-d974-4e87-8038-f6c5b5bf47f3",
   "metadata": {},
   "source": [
    "# Resources\n",
    "* [AI-Scientist](https://github.com/SakanaAI/AI-Scientist )\n",
    "* [LangChain + Neo4j GRG Tutorial](https://python.langchain.com/docs/tutorials/graph/)"
   ]
  },
  {
   "cell_type": "markdown",
   "id": "8e09e7ba-2f31-4bf3-87b9-25cd6df751cf",
   "metadata": {},
   "source": [
    "# Preliminaries + Installs"
   ]
  },
  {
   "cell_type": "markdown",
   "id": "b3f89225-fe56-4b1b-a1da-f8a2be6cdf84",
   "metadata": {},
   "source": [
    "These instructions are for Python 3.10\n",
    "### Install Notebook 04 Dependencies!\n",
    "* `sudo apt install docker docker.io`\n",
    "* `sudo chmod 666 /var/run/docker.sock`\n",
    "* `python3.10 -m pip install docker --user`\n",
    "### Install ArangoDB + Docker Container\n",
    "* `sudo docker pull arangodb pyArango`\n",
    "* `python3.10 -m pip install python-arango adb-cloud-connector --user`\n",
    "\n"
   ]
  },
  {
   "cell_type": "markdown",
   "id": "ec290487-1b04-4c74-9f95-a1e413cda7b7",
   "metadata": {},
   "source": [
    "# Init + Env"
   ]
  },
  {
   "cell_type": "code",
   "execution_count": 4,
   "id": "87451cf5-6fc1-4a89-8644-84f31850ccdb",
   "metadata": {},
   "outputs": [],
   "source": [
    "from os import path, makedirs, environ\n",
    "from utils import copy_pdfs\n",
    "\n",
    "environ[\"_GRG_MODEL_NAME\"] = \"llama3.2-vision\"\n",
    "environ[\"_GRG_EMBED_NAME\"] = \"all-minilm\"\n",
    "\n",
    "environ[\"_GRG_GRAPH_DB\"] = \"grg_rel\"\n"
   ]
  },
  {
   "cell_type": "markdown",
   "id": "38a22eaf-d4bf-45b4-bfae-3e54d4d12d97",
   "metadata": {},
   "source": [
    "# Connect to Graph Database"
   ]
  },
  {
   "cell_type": "code",
   "execution_count": 2,
   "id": "606a31a3-ee34-4a8a-8fe7-0a5669e5a7e1",
   "metadata": {},
   "outputs": [
    {
     "name": "stdout",
     "output_type": "stream",
     "text": [
      "Initializing root user...Hang on...\n",
      "2024-10-31T17:18:44.854457Z [8-2] INFO [a1c60] {syscall} file-descriptors (nofiles) hard limit is 1048576, soft limit is 1048576\n",
      "2024-10-31T17:18:44.873779Z [8-2] INFO [f6e0e] {aql} memory limit per AQL query automatically set to 20161393459 bytes. to modify this value, please adjust the startup option `--query.memory-limit`\n",
      "2024-10-31T17:18:48.267555Z [8-2] INFO [c1b63] {arangosearch} ArangoSearch maintenance: [1..1] commit thread(s), [1..1] consolidation thread(s). ArangoSearch execution parallel threads limit: 16\n",
      "2024-10-31T17:18:48.341856Z [8-2] INFO [7da27] {startup} server will now shut down due to upgrade, database initialization or admin restoration.\n",
      "Initializing database...Hang on...\n",
      "Database initialized...Starting System...\n",
      "2024-10-31T17:18:54.767915Z [1-2] INFO [e52b0] {general} ArangoDB 3.12.3 [linux] 64bit, using jemalloc, build refs/tags/v3.12.3 a80fc5d849b, VPack 0.2.1, RocksDB 7.2.0, ICU 64.2, V8 12.1.165, OpenSSL 3.3.2 3 Sep 2024, build-id: 5af364826ef690377f52b0836c4a08d32ce0b085\n",
      "2024-10-31T17:18:54.767926Z [1-2] INFO [11111] {general} This executable uses the GNU C library (glibc), which is licensed under the GNU Lesser General Public License (LGPL), see https://www.gnu.org/copyleft/lesser.html and https://www.gnu.org/licenses/gpl.html\n",
      "2024-10-31T17:18:54.768004Z [1-2] INFO [a1c60] {syscall} file-descriptors (nofiles) hard limit is 1048576, soft limit is 1048576\n",
      "2024-10-31T17:18:54.768394Z [1-2] INFO [75ddc] {general} detected operating system: Linux version 5.4.0-198-generic (buildd@lcy02-amd64-109) (gcc version 9.4.0 (Ubuntu 9.4.0-1ubuntu1~20.04.2)) #218-Ubuntu SMP Fri Sep 27 20:18:53 UTC 2024\n",
      "2024-10-31T17:18:54.768430Z [1-2] INFO [25362] {memory} Available physical memory: 33602322432 bytes, available cores: 8\n",
      "2024-10-31T17:18:54.768487Z [1-2] WARNING [118b0] {memory} maximum number of memory mappings per process is 65530, which seems too low. it is recommended to set it to at least 512000\n",
      "2024-10-31T17:18:54.768495Z [1-2] WARNING [49528] {memory} execute 'sudo sysctl -w \"vm.max_map_count=512000\"'\n",
      "2024-10-31T17:18:54.773663Z [1-2] INFO [3bb7d] {cluster} Starting up with role SINGLE\n",
      "2024-10-31T17:18:54.788644Z [1-2] INFO [f6e0e] {aql} memory limit per AQL query automatically set to 20161393459 bytes. to modify this value, please adjust the startup option `--query.memory-limit`\n",
      "2024-10-31T17:18:56.443941Z [1-2] INFO [fe333] {engines} RocksDB recovery starting, scanning WAL starting from sequence number 0, latest sequence number: 90, active log files: 3, files in archive: 0\n",
      "2024-10-31T17:18:56.444310Z [1-2] INFO [a4ec8] {engines} RocksDB recovery finished, WAL entries scanned: 113, recovery start sequence number: 0, latest WAL sequence number: 90, max tick value found in WAL: 79, last HLC value found in WAL: 1814450802108923904\n",
      "2024-10-31T17:18:56.688970Z [1-2] INFO [c1b63] {arangosearch} ArangoSearch maintenance: [1..1] commit thread(s), [1..1] consolidation thread(s). ArangoSearch execution parallel threads limit: 16\n",
      "2024-10-31T17:18:56.764406Z [1-2] INFO [6ea38] {general} using endpoint 'http+tcp://0.0.0.0:8529' for non-encrypted requests\n",
      "2024-10-31T17:18:56.783561Z [1-2] INFO [cf3f4] {general} ArangoDB (version 3.12.3 [linux]) is ready for business. Have fun!\n"
     ]
    }
   ],
   "source": [
    "from time import sleep\n",
    "\n",
    "import subprocess\n",
    "\n",
    "def start_arango_container():\n",
    "    command = [ \"docker\", \"run\", \"-p\", \n",
    "                \"8529:8529\", \"-e\", \"ARANGO_ROOT_PASSWORD=\", \"arangodb/arangodb\"]  \n",
    "    subprocess.Popen( command )\n",
    "\n",
    "start_arango_container()\n",
    "sleep( 15.0 )"
   ]
  },
  {
   "cell_type": "code",
   "execution_count": 6,
   "id": "9c1c39f5-d011-4487-8984-9869c3d7981a",
   "metadata": {},
   "outputs": [
    {
     "name": "stdout",
     "output_type": "stream",
     "text": [
      "Success: reusing cached credentials\n",
      "{\n",
      "  \"dbName\": \"TUTnzdbwn6p7jsgucqg5nhc\",\n",
      "  \"username\": \"TUTbqm7e31brvii5o03o9g0es\",\n",
      "  \"password\": \"TUT757ryealxf8o25bhpspvr\",\n",
      "  \"hostname\": \"tutorials.arangodb.cloud\",\n",
      "  \"port\": 8529,\n",
      "  \"url\": \"https://tutorials.arangodb.cloud:8529\"\n",
      "}\n"
     ]
    }
   ],
   "source": [
    "# Instantiate ArangoDB Database\n",
    "import json\n",
    "\n",
    "from adb_cloud_connector import get_temp_credentials\n",
    "from arango import ArangoClient\n",
    "\n",
    "con = get_temp_credentials()\n",
    "\n",
    "db = ArangoClient(hosts=con[\"url\"]).db(\n",
    "    con[\"dbName\"], con[\"username\"], con[\"password\"], verify=True\n",
    ")\n",
    "\n",
    "print(json.dumps(con, indent=2))"
   ]
  },
  {
   "cell_type": "code",
   "execution_count": 7,
   "id": "ded7e008-5ddc-4bde-b666-cf6e9e8b9e5f",
   "metadata": {},
   "outputs": [],
   "source": [
    "# Instantiate the ArangoDB-LangChain Graph\n",
    "from langchain_community.graphs import ArangoGraph\n",
    "\n",
    "graph = ArangoGraph( db )"
   ]
  },
  {
   "cell_type": "code",
   "execution_count": 8,
   "id": "94314a6a-941b-497b-941a-d95595615e6e",
   "metadata": {},
   "outputs": [],
   "source": [
    "if not db.has_graph( environ[\"_GRG_GRAPH_DB\"] ):\n",
    "    db.create_graph(\n",
    "        environ[\"_GRG_GRAPH_DB\"],\n",
    "        edge_definitions=[\n",
    "            {\n",
    "                \"from_vertex_collections\": [\"subjects\"],\n",
    "                \"edge_collection\": \"verbs\",\n",
    "                \"to_vertex_collections\": [\"subjects\"],\n",
    "            },\n",
    "        ],\n",
    "    )"
   ]
  },
  {
   "cell_type": "code",
   "execution_count": 14,
   "id": "2a70a3c7-ce94-41b8-9e1c-23a2fdf1761b",
   "metadata": {},
   "outputs": [
    {
     "name": "stdout",
     "output_type": "stream",
     "text": [
      "2024-10-31T17:32:50.108624Z [1-2] INFO [b4133] {general} SIGTERM received (sender pid 0), beginning shut down sequence\n",
      "2024-10-31T17:32:51.113584Z [1-2] INFO [4bcb9] {general} ArangoDB has been shut down\n",
      "8ed55910d8cc\n"
     ]
    },
    {
     "data": {
      "text/plain": [
       "0"
      ]
     },
     "execution_count": 14,
     "metadata": {},
     "output_type": "execute_result"
    }
   ],
   "source": [
    "import os\n",
    "\n",
    "import docker\n",
    "\n",
    "client     = docker.from_env()\n",
    "containers = client.containers.list()\n",
    "\n",
    "for container in containers:\n",
    "    print(container.name, container.short_id, container.status)\n",
    "\n",
    "os.system( \"docker stop 8ed55910d8cc\" )"
   ]
  },
  {
   "cell_type": "code",
   "execution_count": null,
   "id": "5b231d76-142d-4fb0-a81b-34f67170d0ca",
   "metadata": {},
   "outputs": [],
   "source": []
  },
  {
   "cell_type": "code",
   "execution_count": null,
   "id": "1e799705-7295-4731-b6a8-ee7ba7dacabb",
   "metadata": {},
   "outputs": [],
   "source": []
  }
 ],
 "metadata": {
  "kernelspec": {
   "display_name": "Python 3 (ipykernel)",
   "language": "python",
   "name": "python3"
  },
  "language_info": {
   "codemirror_mode": {
    "name": "ipython",
    "version": 3
   },
   "file_extension": ".py",
   "mimetype": "text/x-python",
   "name": "python",
   "nbconvert_exporter": "python",
   "pygments_lexer": "ipython3",
   "version": "3.10.15"
  }
 },
 "nbformat": 4,
 "nbformat_minor": 5
}
