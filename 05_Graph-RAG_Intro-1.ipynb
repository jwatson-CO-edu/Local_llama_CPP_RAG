{
 "cells": [
  {
   "cell_type": "markdown",
   "id": "f90a2fda-d974-4e87-8038-f6c5b5bf47f3",
   "metadata": {},
   "source": [
    "# Resources\n",
    "* [AI-Scientist](https://github.com/SakanaAI/AI-Scientist )\n",
    "* [LangChain + Neo4j GRG Tutorial](https://python.langchain.com/docs/tutorials/graph/)\n",
    "* [Enhancing RAG-based application accuracy by constructing and leveraging knowledge graphs](https://blog.langchain.dev/enhancing-rag-based-applications-accuracy-by-constructing-and-leveraging-knowledge-graphs/)"
   ]
  },
  {
   "cell_type": "markdown",
   "id": "8e09e7ba-2f31-4bf3-87b9-25cd6df751cf",
   "metadata": {},
   "source": [
    "# Preliminaries + Installs"
   ]
  },
  {
   "cell_type": "markdown",
   "id": "b3f89225-fe56-4b1b-a1da-f8a2be6cdf84",
   "metadata": {},
   "source": [
    "These instructions are for Python 3.10\n",
    "### Install Notebook 04 Dependencies!\n",
    "* `sudo apt install docker docker.io`\n",
    "* `sudo chmod 666 /var/run/docker.sock`\n",
    "* `python3.10 -m pip install docker --user`\n",
    "### Install ArangoDB + Docker Container\n",
    "* `sudo docker pull arangodb pyArango`\n",
    "* `python3.10 -m pip install python-arango adb-cloud-connector --user`\n",
    "\n"
   ]
  },
  {
   "cell_type": "markdown",
   "id": "41c74f26-a5d8-4b32-9fa0-83d730041ede",
   "metadata": {},
   "source": [
    "# Inspiration\n",
    "* [Co-STORM @ Stanford](https://storm.genie.stanford.edu/)\n",
    "* [Ellicit](https://elicit.com/)\n",
    "* [Research Rabbit](https://www.researchrabbit.ai/)"
   ]
  },
  {
   "cell_type": "markdown",
   "id": "ec290487-1b04-4c74-9f95-a1e413cda7b7",
   "metadata": {},
   "source": [
    "# Init + Env"
   ]
  },
  {
   "cell_type": "code",
   "execution_count": 31,
   "id": "87451cf5-6fc1-4a89-8644-84f31850ccdb",
   "metadata": {},
   "outputs": [],
   "source": [
    "########## INIT ####################################################################################\n",
    "from os import path, makedirs, environ\n",
    "from utils import copy_pdfs\n",
    "\n",
    "\n",
    "\n",
    "########## ENVIRONMENT #############################################################################\n",
    "\n",
    "##### 04: Basic RAG #######################################################\n",
    "environ[\"_RAG_DOC_DBASE\"]  = \"lit_pdf\"\n",
    "environ[\"_RAG_DOC_EMBED\"]  = \"all-minilm\"\n",
    "\n",
    "##### 05: Graph-RAG (GRG) #################################################\n",
    "environ[\"_GRG_MODEL_NAME\"] = \"llama3.2-vision\"\n",
    "environ[\"_GRG_EMBED_NAME\"] = \"all-minilm\"\n",
    "\n",
    "environ[\"_GRG_GRAPH_DB\"] = \"grg_rel\"\n",
    "\n",
    "##### Flags ###############################################################\n",
    "_LINK_PAGES = True\n",
    "_DOC_EMBEDS = \"data/DocVectors.pkl\""
   ]
  },
  {
   "cell_type": "markdown",
   "id": "0a75e6de-09de-41c3-ad97-393d3e3d58ca",
   "metadata": {},
   "source": [
    "# Depth 1: Link PDF Pages by Similarity"
   ]
  },
  {
   "cell_type": "markdown",
   "id": "58de0c4d-5605-4d34-a271-c502f63be5f4",
   "metadata": {},
   "source": [
    "## Retrieve 04 Embeddings"
   ]
  },
  {
   "cell_type": "code",
   "execution_count": 2,
   "id": "b62a0cbf-525b-42d0-9031-e04e8d252f32",
   "metadata": {},
   "outputs": [],
   "source": [
    "%%capture\n",
    "# Loading the vector store sometimes spews warnings\n",
    "import sys\n",
    "\n",
    "__import__('pysqlite3')\n",
    "sys.modules['sqlite3'] = sys.modules.pop( 'pysqlite3' )\n",
    "import chromadb\n",
    "from langchain_chroma import Chroma\n",
    "\n",
    "\n",
    "persistent_client = chromadb.PersistentClient();\n",
    "collection        = persistent_client.get_or_create_collection( environ[\"_RAG_DOC_DBASE\"] );"
   ]
  },
  {
   "cell_type": "code",
   "execution_count": 13,
   "id": "b790070a-dbe5-4fed-b01f-8eb06dc69eba",
   "metadata": {},
   "outputs": [
    {
     "name": "stdout",
     "output_type": "stream",
     "text": [
      "<class 'dict'>\n"
     ]
    }
   ],
   "source": [
    "from collections import deque\n",
    "\n",
    "# Iterate over all documents and collect the IDs\n",
    "all_ids = deque()\n",
    "allData = collection.get()\n",
    "totDocs = allData['documents']\n",
    "\n",
    "# print( type(allData) )"
   ]
  },
  {
   "cell_type": "code",
   "execution_count": null,
   "id": "a5557def-21c0-40a7-b871-ce4a6fafb090",
   "metadata": {},
   "outputs": [],
   "source": [
    "from langchain_ollama import OllamaEmbeddings\n",
    "\n",
    "from utils import pull_ollama_model\n",
    "\n",
    "pull_ollama_model( environ[\"_RAG_DOC_EMBED\"] )\n",
    "\n",
    "local_embeddings = OllamaEmbeddings( model = environ[\"_RAG_DOC_EMBED\"] )"
   ]
  },
  {
   "cell_type": "code",
   "execution_count": 22,
   "id": "c1e42281-259a-4a8f-8432-138cc0fcfa52",
   "metadata": {},
   "outputs": [
    {
     "name": "stdout",
     "output_type": "stream",
     "text": [
      "........................................................................................................................................invalid input typeinvalid input type............................................................................................................................................................................................................invalid input type...........................invalid input typeinvalid input typeinvalid input typeinvalid input typeinvalid input typeinvalid input typeinvalid input typeinvalid input typeinvalid input typeinvalid input type....................................................................................invalid input typeinvalid input typeinvalid input typeinvalid input typeinvalid input typeinvalid input typeinvalid input typeinvalid input typeinvalid input typeinvalid input typeinvalid input typeinvalid input typeinvalid input typeinvalid input typeinvalid input typeinvalid input typeinvalid input typeinvalid input typeinvalid input typeinvalid input typeinvalid input typeinvalid input type............invalid input typeinvalid input typeinvalid input typeinvalid input typeinvalid input typeinvalid input typeinvalid input type...........................................................................................................................................invalid input type....................................................................................................................................................................................invalid input typeinvalid input typeinvalid input typeinvalid input typeinvalid input typeinvalid input typeinvalid input typeinvalid input typeinvalid input typeinvalid input typeinvalid input typeinvalid input typeinvalid input typeinvalid input typeinvalid input typeinvalid input typeinvalid input typeinvalid input typeinvalid input typeinvalid input typeinvalid input typeinvalid input typeinvalid input type...................................................................invalid input type...................................invalid input typeinvalid input type....................................................................invalid input typeinvalid input typeinvalid input type....invalid input type......................................................................................................................................................................................................invalid input typeinvalid input typeinvalid input type.invalid input type.....................................invalid input typeinvalid input typeinvalid input typeinvalid input typeinvalid input typeinvalid input type.......................invalid input typeinvalid input type.......................................invalid input typeinvalid input typeinvalid input typeinvalid input typeinvalid input typeinvalid input typeinvalid input type........................................................................................................................................................................................................................................invalid input typeinvalid input typeinvalid input typeinvalid input typeinvalid input typeinvalid input typeinvalid input typeinvalid input typeinvalid input type.invalid input typeinvalid input typeinvalid input type..................................................................................................................................................................................................................................................................................................................................................................................................................................................................................................................................................................................................................................................................................................................................................................................................................................................................invalid input type.......................................................................................................invalid input typeinvalid input typeinvalid input typeinvalid input typeinvalid input typeinvalid input type...........................................................................................................................................................................................................................................................................................................................................................................................................................................................................invalid input type.................................................invalid input typeinvalid input type............................invalid input typeinvalid input typeinvalid input typeinvalid input type..invalid input typeinvalid input typeinvalid input typeinvalid input typeinvalid input typeinvalid input typeinvalid input typeinvalid input typeinvalid input typeinvalid input typeinvalid input typeinvalid input typeinvalid input type.....................................................................................................................................................................................................................................................................................................................................................................................................................................................................................................................................................................................................................................................................invalid input type.......invalid input typeinvalid input typeinvalid input typeinvalid input typeinvalid input typeinvalid input typeinvalid input typeinvalid input typeinvalid input typeinvalid input typeinvalid input typeinvalid input typeinvalid input typeinvalid input typeinvalid input typeinvalid input type.................................invalid input typeinvalid input typeinvalid input typeinvalid input typeinvalid input type....................................................invalid input typeinvalid input typeinvalid input typeinvalid input typeinvalid input typeinvalid input type.................invalid input typeinvalid input typeinvalid input typeinvalid input typeinvalid input typeinvalid input typeinvalid input typeinvalid input typeinvalid input typeinvalid input typeinvalid input typeinvalid input typeinvalid input typeinvalid input typeinvalid input type..................................................................................................................................................................................................................................................................................................invalid input typeinvalid input typeinvalid input type.....................................................................................................invalid input typeinvalid input typeinvalid input typeinvalid input typeinvalid input type........................................................................................invalid input typeinvalid input typeinvalid input typeinvalid input typeinvalid input typeinvalid input type...........invalid input type..invalid input type...................................................................213725\n"
     ]
    }
   ],
   "source": [
    "import time, os\n",
    "now = time.time\n",
    "import numpy as np\n",
    "\n",
    "vecPairs = deque()\n",
    "\n",
    "if _LINK_PAGES and (not os.path.isfile( _DOC_EMBEDS )):\n",
    "    bgn = now()\n",
    "    for i, doc in enumerate( totDocs ):\n",
    "        try:\n",
    "            vec = np.array( local_embeddings.embed_documents( [doc,] )[0] )\n",
    "            vecPairs.append( {'vec' : vec, 'doc': doc} )\n",
    "            if ((i+1)%50) == 0:\n",
    "                print('.',end='',flush=True)\n",
    "            if ((i+1)%1000) == 0:\n",
    "                m,s = divmod( now()-bgn, 60 )\n",
    "                print(f\"\\n{i+1},{int(m)}:{s:.2f}\",end=' ',flush=True)\n",
    "        except Exception as e:\n",
    "            print(e,end=', ',flush=True)\n",
    "    print( f\"\\nPage embedding recalc took {(now()-bgn)/60.0:.2f} minutes!\" )\n",
    "\n",
    "vecPairs = list( vecPairs )\n",
    "print( f\"Got {len( vecPairs )} vectors!\" )"
   ]
  },
  {
   "cell_type": "code",
   "execution_count": 29,
   "id": "1562139f-e122-4bcf-b428-89da709e41e0",
   "metadata": {},
   "outputs": [
    {
     "name": "stdout",
     "output_type": "stream",
     "text": [
      "[-0.24447554156974402, 0.7331681530461076]\n"
     ]
    }
   ],
   "source": [
    "from sklearn.metrics.pairwise import cosine_similarity\n",
    "\n",
    "simMin = 1e9\n",
    "simMax = 0.0\n",
    "vectrs = [item['vec'] for item in vecPairs]\n",
    "vec0   = vectrs[0]\n",
    "\n",
    "for vec_i in vectrs[1:]:\n",
    "    sim_i  = cosine_similarity( [vec0, vec_i,] )[0,1]\n",
    "    simMin = min( sim_i, simMin )\n",
    "    simMax = max( sim_i, simMax )\n",
    "\n",
    "print( [simMin, simMax,] )"
   ]
  },
  {
   "cell_type": "code",
   "execution_count": 32,
   "id": "ec7afa4e-5b50-46ad-8c81-988a654e143d",
   "metadata": {},
   "outputs": [],
   "source": [
    "import pickle\n",
    "if (not os.path.isfile( _DOC_EMBEDS )):\n",
    "    with open( _DOC_EMBEDS, 'wb' ) as f:\n",
    "        pickle.dump( vecPairs, f )"
   ]
  },
  {
   "cell_type": "code",
   "execution_count": null,
   "id": "003c93f9-9c84-461f-b299-790fce004f5f",
   "metadata": {},
   "outputs": [],
   "source": []
  },
  {
   "cell_type": "code",
   "execution_count": null,
   "id": "3c952741-7fc6-46c8-9e40-76423919e4fa",
   "metadata": {},
   "outputs": [],
   "source": []
  },
  {
   "cell_type": "code",
   "execution_count": null,
   "id": "d5117a2e-6a1d-4f3c-9258-6a5da33c31b2",
   "metadata": {},
   "outputs": [],
   "source": []
  },
  {
   "cell_type": "code",
   "execution_count": null,
   "id": "dbdbc1b7-7421-47e5-ac66-d71a17507198",
   "metadata": {},
   "outputs": [],
   "source": []
  },
  {
   "cell_type": "code",
   "execution_count": null,
   "id": "ebb6be0d-a6d5-4e3e-84f3-90a38c6222c9",
   "metadata": {},
   "outputs": [],
   "source": []
  },
  {
   "cell_type": "code",
   "execution_count": null,
   "id": "e9e5d91a-5faf-4222-8195-7a1b36dc1a9b",
   "metadata": {},
   "outputs": [],
   "source": [
    "# print( list( allData.keys() ) )\n",
    "# print( type( allData['documents'] ) )\n",
    "# print( type( allData['documents'][0] ), len( allData['documents'] ) )\n",
    "# print( allData['documents'][0] )"
   ]
  },
  {
   "cell_type": "code",
   "execution_count": null,
   "id": "205eb993-7aed-4f25-a61a-4e0a7d861e44",
   "metadata": {},
   "outputs": [],
   "source": [
    "# for result in collection.get()['documents']:\n",
    "# # for result in collection.get()['ids']: # 6f83d661-6cdf-46bf-83a4-27f6c36d948f\n",
    "#     # print( result )\n",
    "#     print( dir( result ) )\n",
    "#     break\n",
    "#     # for res in result['ids']:\n",
    "#     #     all_ids.append( res )\n",
    "# # docIDs = list( all_ids )\n",
    "# # print( f\"There are {len(docIDs)} documents!\" )\n",
    "# # print( docIDs[0] )"
   ]
  },
  {
   "cell_type": "code",
   "execution_count": null,
   "id": "9a5aeac9-ca64-481a-a5d3-731277e38338",
   "metadata": {},
   "outputs": [],
   "source": []
  },
  {
   "cell_type": "code",
   "execution_count": null,
   "id": "1d8ff3aa-d8a2-4770-b958-712491771b03",
   "metadata": {},
   "outputs": [],
   "source": []
  },
  {
   "cell_type": "code",
   "execution_count": null,
   "id": "df4ef74f-b4f9-4069-b782-575cbba14b99",
   "metadata": {},
   "outputs": [],
   "source": []
  },
  {
   "cell_type": "code",
   "execution_count": null,
   "id": "66365c95-0c59-4391-a85c-4482fa6cc5b2",
   "metadata": {},
   "outputs": [],
   "source": []
  },
  {
   "cell_type": "code",
   "execution_count": null,
   "id": "f738d707-8797-4af8-9713-83ebf2c68ad9",
   "metadata": {},
   "outputs": [],
   "source": []
  },
  {
   "cell_type": "code",
   "execution_count": null,
   "id": "46046147-57f6-4705-a581-c1305eb0a48f",
   "metadata": {},
   "outputs": [],
   "source": []
  },
  {
   "cell_type": "code",
   "execution_count": null,
   "id": "7da53740-214b-48b1-a738-2adc15ecb6dc",
   "metadata": {},
   "outputs": [],
   "source": []
  },
  {
   "cell_type": "code",
   "execution_count": null,
   "id": "f468f613-bfa9-41ae-84e5-380e36a6b31a",
   "metadata": {},
   "outputs": [],
   "source": []
  },
  {
   "cell_type": "code",
   "execution_count": null,
   "id": "ef29a151-185f-4b5d-abc9-e2914d3295b8",
   "metadata": {},
   "outputs": [],
   "source": []
  },
  {
   "cell_type": "code",
   "execution_count": null,
   "id": "ac67f0b3-0a27-4220-8aeb-088f7d8d8235",
   "metadata": {},
   "outputs": [],
   "source": []
  },
  {
   "cell_type": "code",
   "execution_count": null,
   "id": "d1eb5e3d-6460-4acb-b7b1-60ab1d4f09df",
   "metadata": {},
   "outputs": [],
   "source": []
  },
  {
   "cell_type": "code",
   "execution_count": null,
   "id": "4cb4741a-5dc2-4e1d-8d88-02bc975f0877",
   "metadata": {},
   "outputs": [],
   "source": []
  },
  {
   "cell_type": "markdown",
   "id": "38a22eaf-d4bf-45b4-bfae-3e54d4d12d97",
   "metadata": {},
   "source": [
    "# Connect to Graph Database"
   ]
  },
  {
   "cell_type": "code",
   "execution_count": null,
   "id": "606a31a3-ee34-4a8a-8fe7-0a5669e5a7e1",
   "metadata": {},
   "outputs": [],
   "source": [
    "# from time import sleep\n",
    "\n",
    "# import subprocess\n",
    "\n",
    "# def start_arango_container():\n",
    "#     command = [ \"docker\", \"run\", \"-p\", \n",
    "#                 \"8529:8529\", \"-e\", \"ARANGO_ROOT_PASSWORD=\", \"arangodb/arangodb\"]  \n",
    "#     subprocess.Popen( command )\n",
    "\n",
    "# start_arango_container()\n",
    "# sleep( 15.0 )"
   ]
  },
  {
   "cell_type": "code",
   "execution_count": null,
   "id": "9c1c39f5-d011-4487-8984-9869c3d7981a",
   "metadata": {},
   "outputs": [],
   "source": [
    "# # Instantiate ArangoDB Database\n",
    "# import json\n",
    "\n",
    "# from adb_cloud_connector import get_temp_credentials\n",
    "# from arango import ArangoClient\n",
    "\n",
    "# con = get_temp_credentials()\n",
    "\n",
    "# db = ArangoClient(hosts=con[\"url\"]).db(\n",
    "#     con[\"dbName\"], con[\"username\"], con[\"password\"], verify=True\n",
    "# )\n",
    "\n",
    "# print(json.dumps(con, indent=2))"
   ]
  },
  {
   "cell_type": "code",
   "execution_count": null,
   "id": "ded7e008-5ddc-4bde-b666-cf6e9e8b9e5f",
   "metadata": {},
   "outputs": [],
   "source": [
    "# # Instantiate the ArangoDB-LangChain Graph\n",
    "# from langchain_community.graphs import ArangoGraph\n",
    "\n",
    "# graph = ArangoGraph( db )"
   ]
  },
  {
   "cell_type": "code",
   "execution_count": null,
   "id": "94314a6a-941b-497b-941a-d95595615e6e",
   "metadata": {},
   "outputs": [],
   "source": [
    "# if not db.has_graph( environ[\"_GRG_GRAPH_DB\"] ):\n",
    "#     db.create_graph(\n",
    "#         environ[\"_GRG_GRAPH_DB\"],\n",
    "#         edge_definitions=[\n",
    "#             {\n",
    "#                 \"from_vertex_collections\": [\"subjects\"],\n",
    "#                 \"edge_collection\": \"verbs\",\n",
    "#                 \"to_vertex_collections\": [\"subjects\"],\n",
    "#             },\n",
    "#         ],\n",
    "#     )"
   ]
  },
  {
   "cell_type": "code",
   "execution_count": null,
   "id": "2a70a3c7-ce94-41b8-9e1c-23a2fdf1761b",
   "metadata": {},
   "outputs": [],
   "source": [
    "# import os\n",
    "\n",
    "# import docker\n",
    "\n",
    "# client     = docker.from_env()\n",
    "# containers = client.containers.list()\n",
    "\n",
    "# for container in containers:\n",
    "#     print(container.name, container.short_id, container.status)\n",
    "\n",
    "# os.system( \"docker stop 8ed55910d8cc\" )"
   ]
  },
  {
   "cell_type": "code",
   "execution_count": null,
   "id": "5b231d76-142d-4fb0-a81b-34f67170d0ca",
   "metadata": {},
   "outputs": [],
   "source": []
  },
  {
   "cell_type": "code",
   "execution_count": null,
   "id": "1e799705-7295-4731-b6a8-ee7ba7dacabb",
   "metadata": {},
   "outputs": [],
   "source": []
  }
 ],
 "metadata": {
  "kernelspec": {
   "display_name": "Python 3 (ipykernel)",
   "language": "python",
   "name": "python3"
  },
  "language_info": {
   "codemirror_mode": {
    "name": "ipython",
    "version": 3
   },
   "file_extension": ".py",
   "mimetype": "text/x-python",
   "name": "python",
   "nbconvert_exporter": "python",
   "pygments_lexer": "ipython3",
   "version": "3.10.15"
  }
 },
 "nbformat": 4,
 "nbformat_minor": 5
}
