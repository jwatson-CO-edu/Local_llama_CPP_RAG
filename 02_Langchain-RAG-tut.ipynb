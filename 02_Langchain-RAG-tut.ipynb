{
 "cells": [
  {
   "cell_type": "markdown",
   "id": "ba9f6fbc-8227-4e15-b6de-6d83250dac88",
   "metadata": {},
   "source": [
    "### https://python.langchain.com/docs/tutorials/local_rag/"
   ]
  },
  {
   "cell_type": "markdown",
   "id": "35be0190-6fad-4280-8161-c151b2709e1c",
   "metadata": {},
   "source": [
    "* "
   ]
  },
  {
   "cell_type": "code",
   "execution_count": null,
   "id": "6743e6a3-f373-4833-b77b-a6c00adf36bd",
   "metadata": {},
   "outputs": [],
   "source": []
  },
  {
   "cell_type": "code",
   "execution_count": null,
   "id": "f205f6ca-0265-4ea1-bdf5-da58b719013d",
   "metadata": {},
   "outputs": [],
   "source": []
  },
  {
   "cell_type": "code",
   "execution_count": null,
   "id": "aae10ba8-97c7-4ba1-bc03-c51b2b68fdbf",
   "metadata": {},
   "outputs": [],
   "source": []
  },
  {
   "cell_type": "code",
   "execution_count": null,
   "id": "7a0fc2d1-0707-4775-8dd1-97f53f07e086",
   "metadata": {},
   "outputs": [],
   "source": []
  }
 ],
 "metadata": {
  "kernelspec": {
   "display_name": "Python 3 (ipykernel)",
   "language": "python",
   "name": "python3"
  },
  "language_info": {
   "codemirror_mode": {
    "name": "ipython",
    "version": 3
   },
   "file_extension": ".py",
   "mimetype": "text/x-python",
   "name": "python",
   "nbconvert_exporter": "python",
   "pygments_lexer": "ipython3",
   "version": "3.10.15"
  }
 },
 "nbformat": 4,
 "nbformat_minor": 5
}
