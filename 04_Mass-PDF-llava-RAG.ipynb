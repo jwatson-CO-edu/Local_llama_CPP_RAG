{
 "cells": [
  {
   "cell_type": "markdown",
   "id": "9a32057c-f5bd-4aea-a78f-9bb14b28f510",
   "metadata": {},
   "source": [
    "## Copy PDFs"
   ]
  },
  {
   "cell_type": "code",
   "execution_count": 1,
   "id": "8219dcd5-258d-4463-bb82-bcafaa104e8a",
   "metadata": {},
   "outputs": [
    {
     "name": "stdout",
     "output_type": "stream",
     "text": [
      ".....\n"
     ]
    }
   ],
   "source": [
    "from os import environ, path\n",
    "from aa_scrape_PDF import copy_pdfs\n",
    "\n",
    "environ[\"_RAG_PDF_SOURCE\"] = \"/media/james/FILEPILE/$_Robust_Planning/Literature/References/storage\"\n",
    "environ[\"_RAG_PDF_DESTIN\"] = \"data/input/pdf\"\n",
    "environ[\"_RAG_VERBOSE\"]    = \"\"\n",
    "environ[\"_RAG_DOC_LIMIT\"]  = \"250\"\n",
    "environ[\"_RAG_DOC_DBASE\"] = \"lit_pdf\"\n",
    "environ[\"_RAG_VEC_DBASE\"] = \"lit_vec\"\n",
    "copy_pdfs()"
   ]
  },
  {
   "cell_type": "markdown",
   "id": "97b97eeb-bbeb-4b40-b0a2-61b8f7643707",
   "metadata": {},
   "source": [
    "## Load PDFs by page chunks"
   ]
  },
  {
   "cell_type": "markdown",
   "id": "393314ba-7acb-46bf-bfb8-640e72407061",
   "metadata": {},
   "source": [
    "### https://python.langchain.com/docs/how_to/document_loader_pdf/"
   ]
  },
  {
   "cell_type": "markdown",
   "id": "d3c5b7d6-c463-4917-89e4-f1aa6c040058",
   "metadata": {},
   "source": [
    "* `python3.10 -m pip install pypdf langchain-unstructured \"unstructured[pdf]\" --user`\n",
    "* `apt install tesseract-ocr`"
   ]
  },
  {
   "cell_type": "code",
   "execution_count": 2,
   "id": "b8a2cca2-b617-4243-9e82-82e26de66e79",
   "metadata": {},
   "outputs": [
    {
     "name": "stdout",
     "output_type": "stream",
     "text": [
      "Copied 251 files!\n",
      "1:9, 2:29, 3:44, 4:56, 5:85, 6:93, 7:104, 8:109, 9:124, 10:130, 11:142, "
     ]
    },
    {
     "name": "stderr",
     "output_type": "stream",
     "text": [
      "Advanced encoding /90msp-RKSJ-H not implemented yet\n",
      "Advanced encoding /90msp-RKSJ-H not implemented yet\n",
      "Advanced encoding /90msp-RKSJ-H not implemented yet\n",
      "Advanced encoding /90msp-RKSJ-H not implemented yet\n",
      "Advanced encoding /90msp-RKSJ-H not implemented yet\n",
      "Advanced encoding /90msp-RKSJ-H not implemented yet\n",
      "Advanced encoding /90msp-RKSJ-H not implemented yet\n",
      "Advanced encoding /90msp-RKSJ-H not implemented yet\n",
      "Advanced encoding /90msp-RKSJ-H not implemented yet\n",
      "Advanced encoding /90msp-RKSJ-H not implemented yet\n",
      "Advanced encoding /90msp-RKSJ-H not implemented yet\n",
      "Advanced encoding /90msp-RKSJ-H not implemented yet\n",
      "Advanced encoding /90msp-RKSJ-H not implemented yet\n",
      "Advanced encoding /90msp-RKSJ-H not implemented yet\n",
      "Advanced encoding /90msp-RKSJ-H not implemented yet\n",
      "Advanced encoding /90msp-RKSJ-H not implemented yet\n",
      "Advanced encoding /90msp-RKSJ-H not implemented yet\n",
      "Advanced encoding /90msp-RKSJ-H not implemented yet\n",
      "Advanced encoding /90msp-RKSJ-H not implemented yet\n",
      "Advanced encoding /90msp-RKSJ-H not implemented yet\n",
      "Advanced encoding /90msp-RKSJ-H not implemented yet\n",
      "Advanced encoding /90msp-RKSJ-H not implemented yet\n",
      "Advanced encoding /90msp-RKSJ-H not implemented yet\n",
      "Advanced encoding /90msp-RKSJ-H not implemented yet\n",
      "Advanced encoding /90msp-RKSJ-H not implemented yet\n",
      "Advanced encoding /90msp-RKSJ-H not implemented yet\n",
      "Advanced encoding /90msp-RKSJ-H not implemented yet\n",
      "Advanced encoding /90msp-RKSJ-H not implemented yet\n",
      "Advanced encoding /90msp-RKSJ-H not implemented yet\n",
      "Advanced encoding /90msp-RKSJ-H not implemented yet\n",
      "Advanced encoding /90msp-RKSJ-H not implemented yet\n",
      "Advanced encoding /90msp-RKSJ-H not implemented yet\n",
      "Advanced encoding /90msp-RKSJ-H not implemented yet\n",
      "Advanced encoding /90msp-RKSJ-H not implemented yet\n",
      "Advanced encoding /90msp-RKSJ-H not implemented yet\n",
      "Advanced encoding /90msp-RKSJ-H not implemented yet\n",
      "Advanced encoding /90msp-RKSJ-H not implemented yet\n",
      "Advanced encoding /90ms-RKSJ-H not implemented yet\n",
      "Advanced encoding /90msp-RKSJ-H not implemented yet\n",
      "Advanced encoding /90msp-RKSJ-H not implemented yet\n"
     ]
    },
    {
     "name": "stdout",
     "output_type": "stream",
     "text": [
      "12:154, 13:161, 14:184, 15:198, 16:272, 17:285, 18:301, 19:326, 20:369, 21:377, 22:378, 23:388, 24:408, 25:419, 26:424, 27:441, 28:455, 29:463, 30:474, 31:483, 32:488, 33:502, 34:527, 35:539, 36:548, 37:562, "
     ]
    },
    {
     "name": "stderr",
     "output_type": "stream",
     "text": [
      "Ignoring wrong pointing object 2 65536 (offset 0)\n",
      "Ignoring wrong pointing object 22 65536 (offset 0)\n",
      "Ignoring wrong pointing object 26 65536 (offset 0)\n",
      "Ignoring wrong pointing object 46 65536 (offset 0)\n",
      "Ignoring wrong pointing object 52 65536 (offset 0)\n",
      "Ignoring wrong pointing object 57 65536 (offset 0)\n",
      "Ignoring wrong pointing object 61 65536 (offset 0)\n",
      "Ignoring wrong pointing object 73 65536 (offset 0)\n",
      "Ignoring wrong pointing object 78 65536 (offset 0)\n",
      "Ignoring wrong pointing object 83 65536 (offset 0)\n",
      "Ignoring wrong pointing object 88 65536 (offset 0)\n",
      "Ignoring wrong pointing object 97 65536 (offset 0)\n",
      "Ignoring wrong pointing object 102 65536 (offset 0)\n",
      "Ignoring wrong pointing object 107 65536 (offset 0)\n",
      "Ignoring wrong pointing object 112 65536 (offset 0)\n",
      "Ignoring wrong pointing object 121 65536 (offset 0)\n",
      "Ignoring wrong pointing object 126 65536 (offset 0)\n",
      "Ignoring wrong pointing object 135 65536 (offset 0)\n",
      "Ignoring wrong pointing object 140 65536 (offset 0)\n",
      "Ignoring wrong pointing object 148 65536 (offset 0)\n",
      "Ignoring wrong pointing object 153 65536 (offset 0)\n",
      "Ignoring wrong pointing object 158 65536 (offset 0)\n",
      "Ignoring wrong pointing object 163 65536 (offset 0)\n",
      "Ignoring wrong pointing object 168 65536 (offset 0)\n",
      "Ignoring wrong pointing object 172 65536 (offset 0)\n",
      "Ignoring wrong pointing object 192 65536 (offset 0)\n",
      "Ignoring wrong pointing object 229 65536 (offset 0)\n",
      "Ignoring wrong pointing object 237 65536 (offset 0)\n",
      "Ignoring wrong pointing object 249 65536 (offset 0)\n",
      "Ignoring wrong pointing object 253 65536 (offset 0)\n",
      "Ignoring wrong pointing object 264 65536 (offset 0)\n",
      "Ignoring wrong pointing object 272 65536 (offset 0)\n",
      "Ignoring wrong pointing object 281 65536 (offset 0)\n",
      "Ignoring wrong pointing object 285 65536 (offset 0)\n",
      "Ignoring wrong pointing object 289 65536 (offset 0)\n",
      "Ignoring wrong pointing object 293 65536 (offset 0)\n",
      "Ignoring wrong pointing object 297 65536 (offset 0)\n",
      "Ignoring wrong pointing object 302 65536 (offset 0)\n",
      "Ignoring wrong pointing object 306 65536 (offset 0)\n",
      "Ignoring wrong pointing object 311 65536 (offset 0)\n",
      "Ignoring wrong pointing object 316 65536 (offset 0)\n",
      "Ignoring wrong pointing object 327 65536 (offset 0)\n",
      "Ignoring wrong pointing object 334 65536 (offset 0)\n",
      "Ignoring wrong pointing object 339 65536 (offset 0)\n",
      "Ignoring wrong pointing object 349 65536 (offset 0)\n",
      "Ignoring wrong pointing object 356 65536 (offset 0)\n",
      "Ignoring wrong pointing object 365 65536 (offset 0)\n",
      "Ignoring wrong pointing object 370 65536 (offset 0)\n",
      "Ignoring wrong pointing object 375 65536 (offset 0)\n",
      "Ignoring wrong pointing object 380 65536 (offset 0)\n",
      "Ignoring wrong pointing object 387 65536 (offset 0)\n",
      "Ignoring wrong pointing object 394 65536 (offset 0)\n",
      "Ignoring wrong pointing object 402 65536 (offset 0)\n",
      "Ignoring wrong pointing object 407 65536 (offset 0)\n",
      "Ignoring wrong pointing object 414 65536 (offset 0)\n",
      "Ignoring wrong pointing object 419 65536 (offset 0)\n",
      "Ignoring wrong pointing object 438 65536 (offset 0)\n",
      "Ignoring wrong pointing object 443 65536 (offset 0)\n",
      "Ignoring wrong pointing object 452 65536 (offset 0)\n",
      "Ignoring wrong pointing object 457 65536 (offset 0)\n",
      "Ignoring wrong pointing object 464 65536 (offset 0)\n",
      "Ignoring wrong pointing object 469 65536 (offset 0)\n",
      "Ignoring wrong pointing object 474 65536 (offset 0)\n",
      "Ignoring wrong pointing object 479 65536 (offset 0)\n",
      "Ignoring wrong pointing object 484 65536 (offset 0)\n",
      "Ignoring wrong pointing object 492 65536 (offset 0)\n",
      "Ignoring wrong pointing object 497 65536 (offset 0)\n",
      "Ignoring wrong pointing object 502 65536 (offset 0)\n",
      "Ignoring wrong pointing object 512 65536 (offset 0)\n",
      "Ignoring wrong pointing object 517 65536 (offset 0)\n",
      "Ignoring wrong pointing object 522 65536 (offset 0)\n",
      "Ignoring wrong pointing object 527 65536 (offset 0)\n",
      "Ignoring wrong pointing object 533 65536 (offset 0)\n",
      "Ignoring wrong pointing object 538 65536 (offset 0)\n",
      "Ignoring wrong pointing object 543 65536 (offset 0)\n",
      "Ignoring wrong pointing object 548 65536 (offset 0)\n",
      "Ignoring wrong pointing object 553 65536 (offset 0)\n",
      "Ignoring wrong pointing object 558 65536 (offset 0)\n",
      "Ignoring wrong pointing object 563 65536 (offset 0)\n",
      "Ignoring wrong pointing object 574 65536 (offset 0)\n",
      "Ignoring wrong pointing object 579 65536 (offset 0)\n",
      "Ignoring wrong pointing object 587 65536 (offset 0)\n",
      "Ignoring wrong pointing object 596 65536 (offset 0)\n",
      "Ignoring wrong pointing object 601 65536 (offset 0)\n",
      "Ignoring wrong pointing object 606 65536 (offset 0)\n",
      "Ignoring wrong pointing object 611 65536 (offset 0)\n",
      "Ignoring wrong pointing object 616 65536 (offset 0)\n",
      "Ignoring wrong pointing object 621 65536 (offset 0)\n",
      "Ignoring wrong pointing object 626 65536 (offset 0)\n",
      "Ignoring wrong pointing object 631 65536 (offset 0)\n",
      "Ignoring wrong pointing object 636 65536 (offset 0)\n",
      "Ignoring wrong pointing object 641 65536 (offset 0)\n",
      "Ignoring wrong pointing object 646 65536 (offset 0)\n",
      "Ignoring wrong pointing object 651 65536 (offset 0)\n",
      "Ignoring wrong pointing object 656 65536 (offset 0)\n",
      "Ignoring wrong pointing object 661 65536 (offset 0)\n",
      "Ignoring wrong pointing object 668 65536 (offset 0)\n",
      "Ignoring wrong pointing object 675 65536 (offset 0)\n",
      "Ignoring wrong pointing object 683 65536 (offset 0)\n",
      "Ignoring wrong pointing object 688 65536 (offset 0)\n",
      "Ignoring wrong pointing object 699 65536 (offset 0)\n",
      "Ignoring wrong pointing object 710 65536 (offset 0)\n",
      "Ignoring wrong pointing object 715 65536 (offset 0)\n",
      "Ignoring wrong pointing object 720 65536 (offset 0)\n",
      "Ignoring wrong pointing object 725 65536 (offset 0)\n",
      "Ignoring wrong pointing object 732 65536 (offset 0)\n",
      "Ignoring wrong pointing object 740 65536 (offset 0)\n",
      "Ignoring wrong pointing object 747 65536 (offset 0)\n",
      "Ignoring wrong pointing object 754 65536 (offset 0)\n",
      "Ignoring wrong pointing object 761 65536 (offset 0)\n",
      "Ignoring wrong pointing object 766 65536 (offset 0)\n",
      "Ignoring wrong pointing object 771 65536 (offset 0)\n",
      "Ignoring wrong pointing object 776 65536 (offset 0)\n",
      "Ignoring wrong pointing object 781 65536 (offset 0)\n",
      "Ignoring wrong pointing object 786 65536 (offset 0)\n",
      "Ignoring wrong pointing object 791 65536 (offset 0)\n",
      "Ignoring wrong pointing object 796 65536 (offset 0)\n",
      "Ignoring wrong pointing object 803 65536 (offset 0)\n",
      "Ignoring wrong pointing object 811 65536 (offset 0)\n",
      "Ignoring wrong pointing object 816 65536 (offset 0)\n",
      "Ignoring wrong pointing object 821 65536 (offset 0)\n",
      "Ignoring wrong pointing object 826 65536 (offset 0)\n",
      "Ignoring wrong pointing object 831 65536 (offset 0)\n",
      "Ignoring wrong pointing object 836 65536 (offset 0)\n",
      "Ignoring wrong pointing object 841 65536 (offset 0)\n",
      "Ignoring wrong pointing object 846 65536 (offset 0)\n",
      "Ignoring wrong pointing object 851 65536 (offset 0)\n",
      "Ignoring wrong pointing object 856 65536 (offset 0)\n"
     ]
    },
    {
     "name": "stdout",
     "output_type": "stream",
     "text": [
      "38:690, 39:706, 40:738, 41:746, 42:753, 43:821, 44:830, 45:865, "
     ]
    },
    {
     "name": "stderr",
     "output_type": "stream",
     "text": [
      "could not convert string to float: '0.00-50' : FloatObject (b'0.00-50') invalid; use 0.0 instead\n",
      "could not convert string to float: '0.00-50' : FloatObject (b'0.00-50') invalid; use 0.0 instead\n",
      "could not convert string to float: '0.00-50' : FloatObject (b'0.00-50') invalid; use 0.0 instead\n",
      "could not convert string to float: '0.00-50' : FloatObject (b'0.00-50') invalid; use 0.0 instead\n"
     ]
    },
    {
     "name": "stdout",
     "output_type": "stream",
     "text": [
      "46:878, 47:884, 48:917, 49:950, 50:962, 51:970, 52:990, "
     ]
    },
    {
     "name": "stderr",
     "output_type": "stream",
     "text": [
      "Ignoring wrong pointing object 18 0 (offset 0)\n",
      "Ignoring wrong pointing object 35 0 (offset 0)\n"
     ]
    },
    {
     "name": "stdout",
     "output_type": "stream",
     "text": [
      "53:994, 54:1014, 55:1022, 56:1036, 57:1094, 58:1122, 59:1125, 60:1141, 61:1154, 62:1164, 63:1189, 64:1202, 65:1224, 66:1243, 67:1269, 68:1279, 69:1284, 70:1314, 71:1322, 72:1695, 73:1720, 74:1733, 75:1741, 76:1747, 77:1751, 78:1766, 79:1771, 80:1793, 81:1803, 82:1809, 83:1841, 84:1849, 85:1863, 86:1885, 87:1897, 88:1914, 89:1927, 90:1935, 91:1972, 92:1991, 93:2002, 94:2022, 95:2030, 96:2037, 97:2043, 98:2058, 99:2071, 100:2077, 101:2089, 102:2098, 103:2124, 104:2130, 105:2139, 106:2170, 107:2177, 108:2183, 109:2197, 110:2619, 111:2627, 112:2639, 113:2655, 114:2662, 115:2677, 116:2689, 117:2716, 118:2724, 119:2737, 120:2760, 121:2776, 122:2781, 123:2788, 124:2798, 125:2805, 126:2813, 127:2845, 128:2854, 129:2863, 130:2879, 131:2904, 132:3452, 133:3466, 134:3473, 135:3495, 136:3525, 137:3546, 138:3566, 139:3596, 140:3616, 141:3622, 142:3628, 143:3647, 144:3665, 145:3674, 146:3683, 147:3687, 148:3697, 149:3705, 150:3713, 151:3723, 152:3737, 153:3748, 154:3757, 155:3764, 156:3771, 157:3802, 158:3821, 159:3828, 160:3835, 161:3847, 162:3887, 163:3903, 164:3911, 165:3923, 166:4384, 167:4423, 168:4429, 169:4447, 170:4474, 171:4496, 172:4511, 173:4524, 174:4547, 175:4561, 176:4578, 177:4764, 178:4787, 179:4812, 180:4835, 181:4875, 182:4892, 183:4906, 184:4916, 185:4932, 186:4940, 187:4946, 188:4983, 189:4998, 190:5008, 191:5017, 192:5037, 193:5055, "
     ]
    },
    {
     "name": "stderr",
     "output_type": "stream",
     "text": [
      "Ignoring wrong pointing object 37 0 (offset 0)\n",
      "Ignoring wrong pointing object 39 0 (offset 0)\n",
      "Ignoring wrong pointing object 53 0 (offset 0)\n",
      "Ignoring wrong pointing object 56 0 (offset 0)\n",
      "Ignoring wrong pointing object 65 0 (offset 0)\n",
      "Ignoring wrong pointing object 72 0 (offset 0)\n",
      "Ignoring wrong pointing object 91 0 (offset 0)\n",
      "Ignoring wrong pointing object 110 0 (offset 0)\n",
      "Ignoring wrong pointing object 121 0 (offset 0)\n",
      "Ignoring wrong pointing object 128 0 (offset 0)\n",
      "Ignoring wrong pointing object 153 0 (offset 0)\n",
      "Ignoring wrong pointing object 159 0 (offset 0)\n",
      "Ignoring wrong pointing object 212 0 (offset 0)\n",
      "Ignoring wrong pointing object 234 0 (offset 0)\n",
      "Ignoring wrong pointing object 269 0 (offset 0)\n",
      "Ignoring wrong pointing object 337 0 (offset 0)\n",
      "Ignoring wrong pointing object 339 0 (offset 0)\n",
      "Ignoring wrong pointing object 355 0 (offset 0)\n",
      "Ignoring wrong pointing object 361 0 (offset 0)\n",
      "Ignoring wrong pointing object 365 0 (offset 0)\n",
      "Ignoring wrong pointing object 367 0 (offset 0)\n",
      "Ignoring wrong pointing object 386 0 (offset 0)\n",
      "Ignoring wrong pointing object 388 0 (offset 0)\n",
      "Ignoring wrong pointing object 396 0 (offset 0)\n",
      "Ignoring wrong pointing object 418 0 (offset 0)\n",
      "Ignoring wrong pointing object 422 0 (offset 0)\n",
      "Ignoring wrong pointing object 430 0 (offset 0)\n",
      "Ignoring wrong pointing object 438 0 (offset 0)\n",
      "Ignoring wrong pointing object 450 0 (offset 0)\n",
      "Ignoring wrong pointing object 453 0 (offset 0)\n",
      "Ignoring wrong pointing object 465 0 (offset 0)\n",
      "Ignoring wrong pointing object 471 0 (offset 0)\n",
      "Ignoring wrong pointing object 490 0 (offset 0)\n",
      "Ignoring wrong pointing object 497 0 (offset 0)\n",
      "Ignoring wrong pointing object 517 0 (offset 0)\n",
      "Ignoring wrong pointing object 528 0 (offset 0)\n",
      "Ignoring wrong pointing object 535 0 (offset 0)\n",
      "Ignoring wrong pointing object 551 0 (offset 0)\n",
      "Ignoring wrong pointing object 572 0 (offset 0)\n",
      "Ignoring wrong pointing object 606 0 (offset 0)\n",
      "Ignoring wrong pointing object 609 0 (offset 0)\n",
      "Ignoring wrong pointing object 612 0 (offset 0)\n",
      "Ignoring wrong pointing object 637 0 (offset 0)\n",
      "Ignoring wrong pointing object 666 0 (offset 0)\n",
      "Ignoring wrong pointing object 692 0 (offset 0)\n",
      "Ignoring wrong pointing object 695 0 (offset 0)\n",
      "Ignoring wrong pointing object 717 0 (offset 0)\n",
      "Ignoring wrong pointing object 719 0 (offset 0)\n",
      "Ignoring wrong pointing object 722 0 (offset 0)\n",
      "Ignoring wrong pointing object 758 0 (offset 0)\n",
      "Ignoring wrong pointing object 765 0 (offset 0)\n",
      "Ignoring wrong pointing object 777 0 (offset 0)\n",
      "Ignoring wrong pointing object 779 0 (offset 0)\n",
      "Ignoring wrong pointing object 781 0 (offset 0)\n",
      "Ignoring wrong pointing object 791 0 (offset 0)\n",
      "Ignoring wrong pointing object 793 0 (offset 0)\n",
      "Ignoring wrong pointing object 795 0 (offset 0)\n",
      "Ignoring wrong pointing object 798 0 (offset 0)\n",
      "Ignoring wrong pointing object 801 0 (offset 0)\n",
      "Ignoring wrong pointing object 811 0 (offset 0)\n",
      "Ignoring wrong pointing object 813 0 (offset 0)\n",
      "Ignoring wrong pointing object 884 0 (offset 0)\n",
      "Ignoring wrong pointing object 888 0 (offset 0)\n",
      "Ignoring wrong pointing object 892 0 (offset 0)\n",
      "Ignoring wrong pointing object 908 0 (offset 0)\n",
      "Ignoring wrong pointing object 911 0 (offset 0)\n",
      "Ignoring wrong pointing object 913 0 (offset 0)\n",
      "Ignoring wrong pointing object 944 0 (offset 0)\n",
      "Ignoring wrong pointing object 946 0 (offset 0)\n",
      "Ignoring wrong pointing object 975 0 (offset 0)\n",
      "Ignoring wrong pointing object 987 0 (offset 0)\n",
      "Ignoring wrong pointing object 1010 0 (offset 0)\n",
      "Ignoring wrong pointing object 1012 0 (offset 0)\n",
      "Ignoring wrong pointing object 1016 0 (offset 0)\n",
      "Ignoring wrong pointing object 1023 0 (offset 0)\n",
      "Ignoring wrong pointing object 1025 0 (offset 0)\n",
      "Ignoring wrong pointing object 1028 0 (offset 0)\n",
      "Ignoring wrong pointing object 1032 0 (offset 0)\n",
      "Ignoring wrong pointing object 1049 0 (offset 0)\n",
      "Ignoring wrong pointing object 1051 0 (offset 0)\n",
      "Ignoring wrong pointing object 1055 0 (offset 0)\n",
      "Ignoring wrong pointing object 1130 0 (offset 0)\n",
      "Ignoring wrong pointing object 1132 0 (offset 0)\n",
      "Ignoring wrong pointing object 1154 0 (offset 0)\n",
      "Ignoring wrong pointing object 1158 0 (offset 0)\n",
      "Ignoring wrong pointing object 1162 0 (offset 0)\n",
      "Ignoring wrong pointing object 1169 0 (offset 0)\n",
      "Ignoring wrong pointing object 1185 0 (offset 0)\n",
      "Ignoring wrong pointing object 1188 0 (offset 0)\n",
      "Ignoring wrong pointing object 1201 0 (offset 0)\n",
      "Ignoring wrong pointing object 1236 0 (offset 0)\n",
      "Ignoring wrong pointing object 1262 0 (offset 0)\n",
      "Ignoring wrong pointing object 1266 0 (offset 0)\n",
      "Ignoring wrong pointing object 1277 0 (offset 0)\n",
      "Ignoring wrong pointing object 1292 0 (offset 0)\n",
      "Ignoring wrong pointing object 1315 0 (offset 0)\n",
      "Ignoring wrong pointing object 1333 0 (offset 0)\n",
      "Ignoring wrong pointing object 1335 0 (offset 0)\n",
      "Ignoring wrong pointing object 1355 0 (offset 0)\n",
      "Ignoring wrong pointing object 1367 0 (offset 0)\n",
      "Ignoring wrong pointing object 1371 0 (offset 0)\n",
      "Ignoring wrong pointing object 1377 0 (offset 0)\n",
      "Ignoring wrong pointing object 1395 0 (offset 0)\n",
      "Ignoring wrong pointing object 1421 0 (offset 0)\n",
      "Ignoring wrong pointing object 1425 0 (offset 0)\n",
      "Ignoring wrong pointing object 1437 0 (offset 0)\n",
      "Ignoring wrong pointing object 1446 0 (offset 0)\n",
      "Ignoring wrong pointing object 1451 0 (offset 0)\n",
      "Ignoring wrong pointing object 1470 0 (offset 0)\n",
      "Ignoring wrong pointing object 1492 0 (offset 0)\n",
      "Ignoring wrong pointing object 1499 0 (offset 0)\n",
      "Ignoring wrong pointing object 1503 0 (offset 0)\n",
      "Ignoring wrong pointing object 1505 0 (offset 0)\n",
      "Ignoring wrong pointing object 1511 0 (offset 0)\n",
      "Ignoring wrong pointing object 1524 0 (offset 0)\n",
      "Ignoring wrong pointing object 1528 0 (offset 0)\n",
      "Ignoring wrong pointing object 1536 0 (offset 0)\n",
      "Ignoring wrong pointing object 1540 0 (offset 0)\n",
      "Ignoring wrong pointing object 1558 0 (offset 0)\n",
      "Ignoring wrong pointing object 1560 0 (offset 0)\n",
      "Ignoring wrong pointing object 1562 0 (offset 0)\n",
      "Ignoring wrong pointing object 1568 0 (offset 0)\n",
      "Ignoring wrong pointing object 1579 0 (offset 0)\n",
      "Ignoring wrong pointing object 1581 0 (offset 0)\n",
      "Ignoring wrong pointing object 1588 0 (offset 0)\n",
      "Ignoring wrong pointing object 1595 0 (offset 0)\n",
      "Ignoring wrong pointing object 1597 0 (offset 0)\n",
      "Ignoring wrong pointing object 1642 0 (offset 0)\n",
      "Ignoring wrong pointing object 1657 0 (offset 0)\n",
      "Ignoring wrong pointing object 1663 0 (offset 0)\n",
      "Ignoring wrong pointing object 1720 0 (offset 0)\n",
      "Ignoring wrong pointing object 1724 0 (offset 0)\n",
      "Ignoring wrong pointing object 1728 0 (offset 0)\n",
      "Ignoring wrong pointing object 1752 0 (offset 0)\n",
      "Ignoring wrong pointing object 1756 0 (offset 0)\n",
      "Ignoring wrong pointing object 1789 0 (offset 0)\n",
      "Ignoring wrong pointing object 1805 0 (offset 0)\n",
      "Ignoring wrong pointing object 1826 0 (offset 0)\n",
      "Ignoring wrong pointing object 1854 0 (offset 0)\n",
      "Ignoring wrong pointing object 1869 0 (offset 0)\n",
      "Ignoring wrong pointing object 1876 0 (offset 0)\n",
      "Ignoring wrong pointing object 1885 0 (offset 0)\n",
      "Ignoring wrong pointing object 1900 0 (offset 0)\n",
      "Ignoring wrong pointing object 1918 0 (offset 0)\n"
     ]
    },
    {
     "name": "stdout",
     "output_type": "stream",
     "text": [
      "194:5107, 195:5130, 196:5148, 197:5154, 198:5170, 199:5195, 200:5208, 201:5217, 202:5228, 203:5240, 204:5248, 205:5267, 206:5293, 207:5315, "
     ]
    },
    {
     "name": "stderr",
     "output_type": "stream",
     "text": [
      "Ignoring wrong pointing object 10 0 (offset 0)\n",
      "Ignoring wrong pointing object 12 0 (offset 0)\n",
      "Ignoring wrong pointing object 23 0 (offset 0)\n",
      "Ignoring wrong pointing object 25 0 (offset 0)\n",
      "Ignoring wrong pointing object 122 0 (offset 0)\n",
      "Ignoring wrong pointing object 127 0 (offset 0)\n",
      "Ignoring wrong pointing object 132 0 (offset 0)\n",
      "Ignoring wrong pointing object 134 0 (offset 0)\n",
      "Ignoring wrong pointing object 143 0 (offset 0)\n",
      "Ignoring wrong pointing object 148 0 (offset 0)\n",
      "Ignoring wrong pointing object 153 0 (offset 0)\n",
      "Ignoring wrong pointing object 155 0 (offset 0)\n",
      "Ignoring wrong pointing object 223 0 (offset 0)\n",
      "Ignoring wrong pointing object 225 0 (offset 0)\n",
      "Ignoring wrong pointing object 227 0 (offset 0)\n",
      "Ignoring wrong pointing object 229 0 (offset 0)\n",
      "Ignoring wrong pointing object 231 0 (offset 0)\n",
      "Ignoring wrong pointing object 233 0 (offset 0)\n",
      "Ignoring wrong pointing object 235 0 (offset 0)\n",
      "Ignoring wrong pointing object 237 0 (offset 0)\n",
      "Ignoring wrong pointing object 239 0 (offset 0)\n",
      "Ignoring wrong pointing object 281 0 (offset 0)\n",
      "Ignoring wrong pointing object 283 0 (offset 0)\n",
      "Ignoring wrong pointing object 286 0 (offset 0)\n",
      "Ignoring wrong pointing object 288 0 (offset 0)\n",
      "Ignoring wrong pointing object 290 0 (offset 0)\n",
      "Ignoring wrong pointing object 328 0 (offset 0)\n",
      "Ignoring wrong pointing object 334 0 (offset 0)\n",
      "Ignoring wrong pointing object 340 0 (offset 0)\n",
      "Ignoring wrong pointing object 345 0 (offset 0)\n"
     ]
    },
    {
     "name": "stdout",
     "output_type": "stream",
     "text": [
      "208:5356, 209:5380, 210:5403, 211:5412, 212:5424, 213:5438, 214:5446, 215:5452, 216:5463, 217:5832, 218:5839, 219:5853, 220:5860, 221:5878, 222:5888, 223:5895, 224:5901, 225:5907, 226:5923, 227:5942, 228:5958, 229:5968, 230:5980, 231:5988, 232:6000, 233:6008, 234:6024, 235:6046, 236:6069, 237:6111, 238:6121, 239:6145, 240:6156, 241:6222, 242:6230, 243:6238, 244:6249, 245:6304, 246:6336, 247:6355, 248:6364, 249:6385, 250:6406, 251:6418, \n"
     ]
    }
   ],
   "source": [
    "import os\n",
    "from collections import deque\n",
    "from langchain_community.document_loaders import PyPDFLoader\n",
    "\n",
    "pdfs_drct = environ[\"_RAG_PDF_DESTIN\"]\n",
    "fNames    = [item for item in os.listdir( pdfs_drct ) if (str( item ).split('.')[-1].lower() == 'pdf')]\n",
    "print( f\"Copied {len(fNames)} files!\" )\n",
    "pages = deque() # Fast append\n",
    "\n",
    "for i, fNam in enumerate( fNames ):\n",
    "    file_path = path.join( pdfs_drct, fNam )\n",
    "    loader    = PyPDFLoader( file_path )\n",
    "    async for page in loader.alazy_load():\n",
    "        pages.append( page )\n",
    "    print( f\"{i+1}:{len(pages)}\", end = ', ', flush = True )\n",
    "print()\n",
    "pages = list( pages )"
   ]
  },
  {
   "cell_type": "code",
   "execution_count": 3,
   "id": "e216559a-5e4b-4d21-a8ff-6d796e0c5dfc",
   "metadata": {},
   "outputs": [],
   "source": [
    "# print(f\"{pages[0].metadata}\\n\")\n",
    "# print(pages[0].page_content)"
   ]
  },
  {
   "cell_type": "markdown",
   "id": "ca0be2b0-5b1c-4838-b4db-62b518afeac4",
   "metadata": {},
   "source": [
    "## Load the text embedding model"
   ]
  },
  {
   "cell_type": "code",
   "execution_count": 4,
   "id": "9faaf3ef-1701-49c5-a781-d9e551346763",
   "metadata": {},
   "outputs": [],
   "source": [
    "def pull_ollama_model( modelStr ):\n",
    "    \"\"\" Pull a named model from Ollama and store it wherever \"\"\"\n",
    "    print( f\"About to save '{modelStr}'.\\nThis will spew a lot of text on the first run...\" )\n",
    "    os.system( f\"ollama pull {modelStr}\" )"
   ]
  },
  {
   "cell_type": "code",
   "execution_count": 5,
   "id": "35da1790-0281-4af3-8b81-88560fc16a6c",
   "metadata": {},
   "outputs": [
    {
     "name": "stdout",
     "output_type": "stream",
     "text": [
      "About to save 'nomic-embed-text'.\n",
      "This will spew a lot of text on the first run...\n"
     ]
    },
    {
     "name": "stderr",
     "output_type": "stream",
     "text": [
      "\u001b[?25lpulling manifest ⠙ \u001b[?25h\u001b[?25l\u001b[2K\u001b[1Gpulling manifest ⠹ \u001b[?25h\u001b[?25l\u001b[2K\u001b[1Gpulling manifest ⠹ \u001b[?25h\u001b[?25l\u001b[2K\u001b[1Gpulling manifest ⠸ \u001b[?25h\u001b[?25l\u001b[2K\u001b[1Gpulling manifest ⠴ \u001b[?25h\u001b[?25l\u001b[2K\u001b[1Gpulling manifest \n",
      "pulling 970aa74c0a90... 100% ▕████████████████▏ 274 MB                         \n",
      "pulling c71d239df917... 100% ▕████████████████▏  11 KB                         \n",
      "pulling ce4a164fc046... 100% ▕████████████████▏   17 B                         \n",
      "pulling 31df23ea7daa... 100% ▕████████████████▏  420 B                         \n",
      "verifying sha256 digest \n",
      "writing manifest \n",
      "success \u001b[?25h\n"
     ]
    }
   ],
   "source": [
    "\n",
    "import sys, os, time\n",
    "now = time.time\n",
    "\n",
    "\n",
    "# from langchain_chroma import Chroma\n",
    "from langchain_ollama import OllamaEmbeddings\n",
    "# from langchain_community import embeddings\n",
    "\n",
    "pull_ollama_model( \"nomic-embed-text\" )\n",
    "\n",
    "local_embeddings = OllamaEmbeddings( model = \"nomic-embed-text\" )"
   ]
  },
  {
   "cell_type": "markdown",
   "id": "fdd67496-84af-4d78-8e3d-1284822eed3a",
   "metadata": {},
   "source": [
    "# Setup document database (of pages)"
   ]
  },
  {
   "cell_type": "code",
   "execution_count": 12,
   "id": "571f7d54-8795-4b9b-8a8c-66459c4e9d60",
   "metadata": {},
   "outputs": [
    {
     "ename": "KeyboardInterrupt",
     "evalue": "",
     "output_type": "error",
     "traceback": [
      "\u001b[0;31m---------------------------------------------------------------------------\u001b[0m",
      "\u001b[0;31mKeyboardInterrupt\u001b[0m                         Traceback (most recent call last)",
      "Cell \u001b[0;32mIn[12], line 12\u001b[0m\n\u001b[1;32m     10\u001b[0m persistent_client \u001b[38;5;241m=\u001b[39m chromadb\u001b[38;5;241m.\u001b[39mPersistentClient()\n\u001b[1;32m     11\u001b[0m collection \u001b[38;5;241m=\u001b[39m persistent_client\u001b[38;5;241m.\u001b[39mget_or_create_collection( environ[\u001b[38;5;124m\"\u001b[39m\u001b[38;5;124m_RAG_DOC_DBASE\u001b[39m\u001b[38;5;124m\"\u001b[39m] )\n\u001b[0;32m---> 12\u001b[0m \u001b[43mcollection\u001b[49m\u001b[38;5;241;43m.\u001b[39;49m\u001b[43madd\u001b[49m\u001b[43m(\u001b[49m\n\u001b[1;32m     13\u001b[0m \u001b[43m    \u001b[49m\u001b[43mids\u001b[49m\u001b[43m       \u001b[49m\u001b[38;5;241;43m=\u001b[39;49m\u001b[43m \u001b[49m\u001b[43mdocIDs\u001b[49m\u001b[43m,\u001b[49m\u001b[43m \u001b[49m\n\u001b[1;32m     14\u001b[0m \u001b[43m    \u001b[49m\u001b[43mdocuments\u001b[49m\u001b[43m \u001b[49m\u001b[38;5;241;43m=\u001b[39;49m\u001b[43m \u001b[49m\u001b[43mdcmnts\u001b[49m\n\u001b[1;32m     15\u001b[0m \u001b[43m)\u001b[49m\n",
      "File \u001b[0;32m~/.local/lib/python3.10/site-packages/chromadb/api/models/Collection.py:81\u001b[0m, in \u001b[0;36mCollection.add\u001b[0;34m(self, ids, embeddings, metadatas, documents, images, uris)\u001b[0m\n\u001b[1;32m     41\u001b[0m \u001b[38;5;28;01mdef\u001b[39;00m \u001b[38;5;21madd\u001b[39m(\n\u001b[1;32m     42\u001b[0m     \u001b[38;5;28mself\u001b[39m,\n\u001b[1;32m     43\u001b[0m     ids: OneOrMany[ID],\n\u001b[0;32m   (...)\u001b[0m\n\u001b[1;32m     53\u001b[0m     uris: Optional[OneOrMany[URI]] \u001b[38;5;241m=\u001b[39m \u001b[38;5;28;01mNone\u001b[39;00m,\n\u001b[1;32m     54\u001b[0m ) \u001b[38;5;241m-\u001b[39m\u001b[38;5;241m>\u001b[39m \u001b[38;5;28;01mNone\u001b[39;00m:\n\u001b[1;32m     55\u001b[0m \u001b[38;5;250m    \u001b[39m\u001b[38;5;124;03m\"\"\"Add embeddings to the data store.\u001b[39;00m\n\u001b[1;32m     56\u001b[0m \u001b[38;5;124;03m    Args:\u001b[39;00m\n\u001b[1;32m     57\u001b[0m \u001b[38;5;124;03m        ids: The ids of the embeddings you wish to add\u001b[39;00m\n\u001b[0;32m   (...)\u001b[0m\n\u001b[1;32m     73\u001b[0m \n\u001b[1;32m     74\u001b[0m \u001b[38;5;124;03m    \"\"\"\u001b[39;00m\n\u001b[1;32m     75\u001b[0m     (\n\u001b[1;32m     76\u001b[0m         ids,\n\u001b[1;32m     77\u001b[0m         embeddings,\n\u001b[1;32m     78\u001b[0m         metadatas,\n\u001b[1;32m     79\u001b[0m         documents,\n\u001b[1;32m     80\u001b[0m         uris,\n\u001b[0;32m---> 81\u001b[0m     ) \u001b[38;5;241m=\u001b[39m \u001b[38;5;28;43mself\u001b[39;49m\u001b[38;5;241;43m.\u001b[39;49m\u001b[43m_validate_and_prepare_embedding_set\u001b[49m\u001b[43m(\u001b[49m\n\u001b[1;32m     82\u001b[0m \u001b[43m        \u001b[49m\u001b[43mids\u001b[49m\u001b[43m,\u001b[49m\u001b[43m \u001b[49m\u001b[43membeddings\u001b[49m\u001b[43m,\u001b[49m\u001b[43m \u001b[49m\u001b[43mmetadatas\u001b[49m\u001b[43m,\u001b[49m\u001b[43m \u001b[49m\u001b[43mdocuments\u001b[49m\u001b[43m,\u001b[49m\u001b[43m \u001b[49m\u001b[43mimages\u001b[49m\u001b[43m,\u001b[49m\u001b[43m \u001b[49m\u001b[43muris\u001b[49m\n\u001b[1;32m     83\u001b[0m \u001b[43m    \u001b[49m\u001b[43m)\u001b[49m\n\u001b[1;32m     85\u001b[0m     \u001b[38;5;28mself\u001b[39m\u001b[38;5;241m.\u001b[39m_client\u001b[38;5;241m.\u001b[39m_add(ids, \u001b[38;5;28mself\u001b[39m\u001b[38;5;241m.\u001b[39mid, embeddings, metadatas, documents, uris)\n",
      "File \u001b[0;32m~/.local/lib/python3.10/site-packages/chromadb/api/models/CollectionCommon.py:280\u001b[0m, in \u001b[0;36mCollectionCommon._validate_and_prepare_embedding_set\u001b[0;34m(self, ids, embeddings, metadatas, documents, images, uris)\u001b[0m\n\u001b[1;32m    277\u001b[0m \u001b[38;5;28;01mif\u001b[39;00m embeddings \u001b[38;5;129;01mis\u001b[39;00m \u001b[38;5;28;01mNone\u001b[39;00m:\n\u001b[1;32m    278\u001b[0m     \u001b[38;5;66;03m# At this point, we know that one of documents or images are provided from the validation above\u001b[39;00m\n\u001b[1;32m    279\u001b[0m     \u001b[38;5;28;01mif\u001b[39;00m documents \u001b[38;5;129;01mis\u001b[39;00m \u001b[38;5;129;01mnot\u001b[39;00m \u001b[38;5;28;01mNone\u001b[39;00m:\n\u001b[0;32m--> 280\u001b[0m         embeddings \u001b[38;5;241m=\u001b[39m \u001b[38;5;28;43mself\u001b[39;49m\u001b[38;5;241;43m.\u001b[39;49m\u001b[43m_embed\u001b[49m\u001b[43m(\u001b[49m\u001b[38;5;28;43minput\u001b[39;49m\u001b[38;5;241;43m=\u001b[39;49m\u001b[43mdocuments\u001b[49m\u001b[43m)\u001b[49m\n\u001b[1;32m    281\u001b[0m     \u001b[38;5;28;01melif\u001b[39;00m images \u001b[38;5;129;01mis\u001b[39;00m \u001b[38;5;129;01mnot\u001b[39;00m \u001b[38;5;28;01mNone\u001b[39;00m:\n\u001b[1;32m    282\u001b[0m         embeddings \u001b[38;5;241m=\u001b[39m \u001b[38;5;28mself\u001b[39m\u001b[38;5;241m.\u001b[39m_embed(\u001b[38;5;28minput\u001b[39m\u001b[38;5;241m=\u001b[39mimages)\n",
      "File \u001b[0;32m~/.local/lib/python3.10/site-packages/chromadb/api/models/CollectionCommon.py:581\u001b[0m, in \u001b[0;36mCollectionCommon._embed\u001b[0;34m(self, input)\u001b[0m\n\u001b[1;32m    576\u001b[0m \u001b[38;5;28;01mif\u001b[39;00m \u001b[38;5;28mself\u001b[39m\u001b[38;5;241m.\u001b[39m_embedding_function \u001b[38;5;129;01mis\u001b[39;00m \u001b[38;5;28;01mNone\u001b[39;00m:\n\u001b[1;32m    577\u001b[0m     \u001b[38;5;28;01mraise\u001b[39;00m \u001b[38;5;167;01mValueError\u001b[39;00m(\n\u001b[1;32m    578\u001b[0m         \u001b[38;5;124m\"\u001b[39m\u001b[38;5;124mYou must provide an embedding function to compute embeddings.\u001b[39m\u001b[38;5;124m\"\u001b[39m\n\u001b[1;32m    579\u001b[0m         \u001b[38;5;124m\"\u001b[39m\u001b[38;5;124mhttps://docs.trychroma.com/guides/embeddings\u001b[39m\u001b[38;5;124m\"\u001b[39m\n\u001b[1;32m    580\u001b[0m     )\n\u001b[0;32m--> 581\u001b[0m \u001b[38;5;28;01mreturn\u001b[39;00m \u001b[38;5;28;43mself\u001b[39;49m\u001b[38;5;241;43m.\u001b[39;49m\u001b[43m_embedding_function\u001b[49m\u001b[43m(\u001b[49m\u001b[38;5;28;43minput\u001b[39;49m\u001b[38;5;241;43m=\u001b[39;49m\u001b[38;5;28;43minput\u001b[39;49m\u001b[43m)\u001b[49m\n",
      "File \u001b[0;32m~/.local/lib/python3.10/site-packages/chromadb/api/types.py:225\u001b[0m, in \u001b[0;36mEmbeddingFunction.__init_subclass__.<locals>.__call__\u001b[0;34m(self, input)\u001b[0m\n\u001b[1;32m    224\u001b[0m \u001b[38;5;28;01mdef\u001b[39;00m \u001b[38;5;21m__call__\u001b[39m(\u001b[38;5;28mself\u001b[39m: EmbeddingFunction[D], \u001b[38;5;28minput\u001b[39m: D) \u001b[38;5;241m-\u001b[39m\u001b[38;5;241m>\u001b[39m Embeddings:\n\u001b[0;32m--> 225\u001b[0m     result \u001b[38;5;241m=\u001b[39m \u001b[43mcall\u001b[49m\u001b[43m(\u001b[49m\u001b[38;5;28;43mself\u001b[39;49m\u001b[43m,\u001b[49m\u001b[43m \u001b[49m\u001b[38;5;28;43minput\u001b[39;49m\u001b[43m)\u001b[49m\n\u001b[1;32m    226\u001b[0m     \u001b[38;5;28;01mreturn\u001b[39;00m validate_embeddings(\n\u001b[1;32m    227\u001b[0m         normalize_embeddings(maybe_cast_one_to_many_embedding(result))\n\u001b[1;32m    228\u001b[0m     )\n",
      "File \u001b[0;32m~/.local/lib/python3.10/site-packages/chromadb/utils/embedding_functions/onnx_mini_lm_l6_v2.py:200\u001b[0m, in \u001b[0;36mONNXMiniLM_L6_V2.__call__\u001b[0;34m(self, input)\u001b[0m\n\u001b[1;32m    197\u001b[0m \u001b[38;5;28;01mdef\u001b[39;00m \u001b[38;5;21m__call__\u001b[39m(\u001b[38;5;28mself\u001b[39m, \u001b[38;5;28minput\u001b[39m: Documents) \u001b[38;5;241m-\u001b[39m\u001b[38;5;241m>\u001b[39m Embeddings:\n\u001b[1;32m    198\u001b[0m     \u001b[38;5;66;03m# Only download the model when it is actually used\u001b[39;00m\n\u001b[1;32m    199\u001b[0m     \u001b[38;5;28mself\u001b[39m\u001b[38;5;241m.\u001b[39m_download_model_if_not_exists()\n\u001b[0;32m--> 200\u001b[0m     \u001b[38;5;28;01mreturn\u001b[39;00m cast(Embeddings, \u001b[38;5;28;43mself\u001b[39;49m\u001b[38;5;241;43m.\u001b[39;49m\u001b[43m_forward\u001b[49m\u001b[43m(\u001b[49m\u001b[38;5;28;43minput\u001b[39;49m\u001b[43m)\u001b[49m)\n",
      "File \u001b[0;32m~/.local/lib/python3.10/site-packages/chromadb/utils/embedding_functions/onnx_mini_lm_l6_v2.py:143\u001b[0m, in \u001b[0;36mONNXMiniLM_L6_V2._forward\u001b[0;34m(self, documents, batch_size)\u001b[0m\n\u001b[1;32m    134\u001b[0m attention_mask \u001b[38;5;241m=\u001b[39m np\u001b[38;5;241m.\u001b[39marray([e\u001b[38;5;241m.\u001b[39mattention_mask \u001b[38;5;28;01mfor\u001b[39;00m e \u001b[38;5;129;01min\u001b[39;00m encoded])\n\u001b[1;32m    135\u001b[0m onnx_input \u001b[38;5;241m=\u001b[39m {\n\u001b[1;32m    136\u001b[0m     \u001b[38;5;124m\"\u001b[39m\u001b[38;5;124minput_ids\u001b[39m\u001b[38;5;124m\"\u001b[39m: np\u001b[38;5;241m.\u001b[39marray(input_ids, dtype\u001b[38;5;241m=\u001b[39mnp\u001b[38;5;241m.\u001b[39mint64),\n\u001b[1;32m    137\u001b[0m     \u001b[38;5;124m\"\u001b[39m\u001b[38;5;124mattention_mask\u001b[39m\u001b[38;5;124m\"\u001b[39m: np\u001b[38;5;241m.\u001b[39marray(attention_mask, dtype\u001b[38;5;241m=\u001b[39mnp\u001b[38;5;241m.\u001b[39mint64),\n\u001b[0;32m   (...)\u001b[0m\n\u001b[1;32m    141\u001b[0m     ),\n\u001b[1;32m    142\u001b[0m }\n\u001b[0;32m--> 143\u001b[0m model_output \u001b[38;5;241m=\u001b[39m \u001b[38;5;28;43mself\u001b[39;49m\u001b[38;5;241;43m.\u001b[39;49m\u001b[43mmodel\u001b[49m\u001b[38;5;241;43m.\u001b[39;49m\u001b[43mrun\u001b[49m\u001b[43m(\u001b[49m\u001b[38;5;28;43;01mNone\u001b[39;49;00m\u001b[43m,\u001b[49m\u001b[43m \u001b[49m\u001b[43monnx_input\u001b[49m\u001b[43m)\u001b[49m\n\u001b[1;32m    144\u001b[0m last_hidden_state \u001b[38;5;241m=\u001b[39m model_output[\u001b[38;5;241m0\u001b[39m]\n\u001b[1;32m    145\u001b[0m \u001b[38;5;66;03m# Perform mean pooling with attention weighting\u001b[39;00m\n",
      "File \u001b[0;32m~/.local/lib/python3.10/site-packages/onnxruntime/capi/onnxruntime_inference_collection.py:220\u001b[0m, in \u001b[0;36mSession.run\u001b[0;34m(self, output_names, input_feed, run_options)\u001b[0m\n\u001b[1;32m    218\u001b[0m     output_names \u001b[38;5;241m=\u001b[39m [output\u001b[38;5;241m.\u001b[39mname \u001b[38;5;28;01mfor\u001b[39;00m output \u001b[38;5;129;01min\u001b[39;00m \u001b[38;5;28mself\u001b[39m\u001b[38;5;241m.\u001b[39m_outputs_meta]\n\u001b[1;32m    219\u001b[0m \u001b[38;5;28;01mtry\u001b[39;00m:\n\u001b[0;32m--> 220\u001b[0m     \u001b[38;5;28;01mreturn\u001b[39;00m \u001b[38;5;28;43mself\u001b[39;49m\u001b[38;5;241;43m.\u001b[39;49m\u001b[43m_sess\u001b[49m\u001b[38;5;241;43m.\u001b[39;49m\u001b[43mrun\u001b[49m\u001b[43m(\u001b[49m\u001b[43moutput_names\u001b[49m\u001b[43m,\u001b[49m\u001b[43m \u001b[49m\u001b[43minput_feed\u001b[49m\u001b[43m,\u001b[49m\u001b[43m \u001b[49m\u001b[43mrun_options\u001b[49m\u001b[43m)\u001b[49m\n\u001b[1;32m    221\u001b[0m \u001b[38;5;28;01mexcept\u001b[39;00m C\u001b[38;5;241m.\u001b[39mEPFail \u001b[38;5;28;01mas\u001b[39;00m err:\n\u001b[1;32m    222\u001b[0m     \u001b[38;5;28;01mif\u001b[39;00m \u001b[38;5;28mself\u001b[39m\u001b[38;5;241m.\u001b[39m_enable_fallback:\n",
      "\u001b[0;31mKeyboardInterrupt\u001b[0m: "
     ]
    }
   ],
   "source": [
    "__import__('pysqlite3')\n",
    "sys.modules['sqlite3'] = sys.modules.pop( 'pysqlite3' )\n",
    "import chromadb\n",
    "from langchain_chroma import Chroma\n",
    "from uuid import uuid4 as gen_id\n",
    "\n",
    "docIDs = [str( gen_id() ) for _ in range( len(pages) )]\n",
    "dcmnts = [str( pg.page_content ) for pg in pages]\n",
    "\n",
    "persistent_client = chromadb.PersistentClient()\n",
    "collection = persistent_client.get_or_create_collection( environ[\"_RAG_DOC_DBASE\"] )\n",
    "collection.add(\n",
    "    ids       = docIDs, \n",
    "    documents = dcmnts\n",
    ")\n",
    "\n"
   ]
  },
  {
   "cell_type": "markdown",
   "id": "db6c3459-9cfc-4e17-b249-172bce6cdf2a",
   "metadata": {},
   "source": [
    "# Create vector store"
   ]
  },
  {
   "cell_type": "code",
   "execution_count": 11,
   "id": "aa5000e0-162c-4f28-9f2b-1e896f42f924",
   "metadata": {},
   "outputs": [
    {
     "name": "stdout",
     "output_type": "stream",
     "text": [
      "Built vector store in 0.0033881664276123047 seconds!\n"
     ]
    }
   ],
   "source": [
    "bgn = now()\n",
    "vector_store_from_client = Chroma(\n",
    "    client             = persistent_client,\n",
    "    collection_name    = environ[\"_RAG_DOC_DBASE\"],\n",
    "    embedding_function = local_embeddings,\n",
    ")\n",
    "print( f\"Built vector store in {now()-bgn} seconds!\" )"
   ]
  },
  {
   "cell_type": "code",
   "execution_count": 10,
   "id": "737c44ed-8f4b-42ac-9ca4-58ee7ba717a4",
   "metadata": {},
   "outputs": [
    {
     "name": "stderr",
     "output_type": "stream",
     "text": [
      "Exception occurred invoking consumer for subscription 94c9cf52038f4a5194039d5772c7c84eto topic persistent://default/default/a72b354b-23c5-415d-b4dc-c6fdd85a6258 'utf-8' codec can't encode character '\\udc38' in position 1416: surrogates not allowed\n"
     ]
    },
    {
     "ename": "NameError",
     "evalue": "name 'bgn' is not defined",
     "output_type": "error",
     "traceback": [
      "\u001b[0;31m---------------------------------------------------------------------------\u001b[0m",
      "\u001b[0;31mNameError\u001b[0m                                 Traceback (most recent call last)",
      "Cell \u001b[0;32mIn[10], line 2\u001b[0m\n\u001b[1;32m      1\u001b[0m vectorstore      \u001b[38;5;241m=\u001b[39m Chroma\u001b[38;5;241m.\u001b[39mfrom_documents( documents \u001b[38;5;241m=\u001b[39m pages, embedding \u001b[38;5;241m=\u001b[39m local_embeddings )\n\u001b[0;32m----> 2\u001b[0m \u001b[38;5;28mprint\u001b[39m( \u001b[38;5;124mf\u001b[39m\u001b[38;5;124m\"\u001b[39m\u001b[38;5;124mBuilt vector store in \u001b[39m\u001b[38;5;132;01m{\u001b[39;00mnow()\u001b[38;5;241m-\u001b[39m\u001b[43mbgn\u001b[49m\u001b[38;5;132;01m}\u001b[39;00m\u001b[38;5;124m seconds!\u001b[39m\u001b[38;5;124m\"\u001b[39m )\n",
      "\u001b[0;31mNameError\u001b[0m: name 'bgn' is not defined"
     ]
    }
   ],
   "source": [
    "# vectorstore      = Chroma.from_documents( documents = pages, embedding = local_embeddings )\n",
    "# print( f\"Built vector store in {now()-bgn} seconds!\" )"
   ]
  },
  {
   "cell_type": "markdown",
   "id": "e03e6145-9920-480b-bdd5-662cafd95a20",
   "metadata": {},
   "source": [
    "### 2024-10-18: Langchain's API Key fails"
   ]
  },
  {
   "cell_type": "code",
   "execution_count": null,
   "id": "c0be8676-37ba-46ec-9159-0fc483c31bea",
   "metadata": {},
   "outputs": [],
   "source": [
    "# import getpass\n",
    "# import os\n",
    "\n",
    "# _UNSTRUCT_KEY_LOC = \"secrets/Langchain_Unstructured.txt\"\n",
    "\n",
    "# with open( _UNSTRUCT_KEY_LOC, 'r' ) as f:\n",
    "#     os.environ[\"UNSTRUCTURED_API_KEY\"] = str( f.read() ).strip()\n",
    "    "
   ]
  },
  {
   "cell_type": "code",
   "execution_count": null,
   "id": "f444a563-5f62-4263-af6b-6b25afd2a274",
   "metadata": {},
   "outputs": [],
   "source": [
    "# from langchain_unstructured import UnstructuredLoader\n",
    "\n",
    "# loader = UnstructuredLoader(\n",
    "#     file_path = file_path,\n",
    "#     strategy  = \"hi_res\",\n",
    "#     partition_via_api = True,\n",
    "#     coordinates = True,\n",
    "# )\n",
    "# docs = []\n",
    "# for doc in loader.lazy_load():\n",
    "#     docs.append( doc )"
   ]
  },
  {
   "cell_type": "markdown",
   "id": "9cfbbd76-0060-4ecd-abc7-ca748060fe84",
   "metadata": {},
   "source": [
    "### https://python.langchain.com/docs/how_to/document_loader_pdf/#local-parsing"
   ]
  },
  {
   "cell_type": "code",
   "execution_count": null,
   "id": "346f4c39-e60f-43ca-98d3-13329dca953c",
   "metadata": {},
   "outputs": [],
   "source": [
    "from langchain_unstructured import UnstructuredLoader\n",
    "\n",
    "loader_local = UnstructuredLoader(\n",
    "    file_path = file_path,\n",
    "    strategy  = \"fast\", #\"hi_res\",\n",
    ")\n",
    "docs_local = []\n",
    "for doc in loader_local.lazy_load():\n",
    "    docs_local.append( doc )"
   ]
  },
  {
   "cell_type": "code",
   "execution_count": null,
   "id": "b08c7bcf-4062-4c3f-a29c-251f2c73cb7e",
   "metadata": {},
   "outputs": [],
   "source": [
    "len( docs_local )"
   ]
  },
  {
   "cell_type": "code",
   "execution_count": null,
   "id": "fbf9a2dc-a228-43c6-bd29-42247f7c9f41",
   "metadata": {},
   "outputs": [],
   "source": [
    "from langchain_ollama import ChatOllama\n",
    "\n",
    "pull_ollama_model( \"llava\" )\n",
    "\n",
    "llm = ChatOllama(\n",
    "    model=\"llava\",\n",
    ")"
   ]
  },
  {
   "cell_type": "code",
   "execution_count": null,
   "id": "3f36bb78-3e01-46c5-a13a-52a354f7661c",
   "metadata": {},
   "outputs": [],
   "source": [
    "import base64\n",
    "import io\n",
    "\n",
    "import fitz\n",
    "from PIL import Image\n",
    "\n",
    "\n",
    "def pdf_page_to_base64(pdf_path: str, page_number: int):\n",
    "    pdf_document = fitz.open(pdf_path)\n",
    "    page = pdf_document.load_page(page_number - 1)  # input is one-indexed\n",
    "    pix = page.get_pixmap()\n",
    "    img = Image.frombytes(\"RGB\", [pix.width, pix.height], pix.samples)\n",
    "\n",
    "    buffer = io.BytesIO()\n",
    "    img.save(buffer, format=\"PNG\")\n",
    "\n",
    "    return base64.b64encode(buffer.getvalue()).decode(\"utf-8\")"
   ]
  },
  {
   "cell_type": "code",
   "execution_count": null,
   "id": "508f24f6-ff61-4e95-b6e9-ac4fa22a5011",
   "metadata": {},
   "outputs": [],
   "source": [
    "from IPython.display import Image as IPImage\n",
    "from IPython.display import display\n",
    "\n",
    "base64_image = pdf_page_to_base64(file_path, 11)\n",
    "display( IPImage( data = base64.b64decode( base64_image ) ) )"
   ]
  },
  {
   "cell_type": "code",
   "execution_count": null,
   "id": "f695b008-3cee-4cca-a754-cd4fc429a3ee",
   "metadata": {},
   "outputs": [],
   "source": [
    "from langchain_core.messages import HumanMessage\n",
    "\n",
    "query = \"What can be said about the data composition?\"\n",
    "\n",
    "message = HumanMessage(\n",
    "    content=[\n",
    "        {\"type\": \"text\", \"text\": query},\n",
    "        {\n",
    "            \"type\": \"image_url\",\n",
    "            \"image_url\": {\"url\": f\"data:image/jpeg;base64,{base64_image}\"},\n",
    "        },\n",
    "    ],\n",
    ")\n",
    "bgn = now()\n",
    "response = llm.invoke( [message] )\n",
    "print( f\"LLM query took {now()-bgn} seconds to process!\" )\n",
    "print( response.content )"
   ]
  },
  {
   "cell_type": "code",
   "execution_count": null,
   "id": "a87af5cf-40b1-4912-ae69-fd7d04565a62",
   "metadata": {},
   "outputs": [],
   "source": []
  },
  {
   "cell_type": "code",
   "execution_count": null,
   "id": "a1815ace-9adc-4c72-aaaf-d37d6f68ea0e",
   "metadata": {},
   "outputs": [],
   "source": []
  },
  {
   "cell_type": "code",
   "execution_count": null,
   "id": "cdcd0bce-e758-4e0b-a1b1-af1e361de2b5",
   "metadata": {},
   "outputs": [],
   "source": []
  },
  {
   "cell_type": "code",
   "execution_count": null,
   "id": "40f7d09c-38fe-45de-8dd2-254a9914bd16",
   "metadata": {},
   "outputs": [],
   "source": []
  },
  {
   "cell_type": "code",
   "execution_count": null,
   "id": "af5fb173-ae41-46bb-b930-8cff12c68006",
   "metadata": {},
   "outputs": [],
   "source": []
  },
  {
   "cell_type": "code",
   "execution_count": null,
   "id": "cea8ec26-bdc9-484e-b88d-e552b7bbee1c",
   "metadata": {},
   "outputs": [],
   "source": []
  }
 ],
 "metadata": {
  "kernelspec": {
   "display_name": "Python 3 (ipykernel)",
   "language": "python",
   "name": "python3"
  },
  "language_info": {
   "codemirror_mode": {
    "name": "ipython",
    "version": 3
   },
   "file_extension": ".py",
   "mimetype": "text/x-python",
   "name": "python",
   "nbconvert_exporter": "python",
   "pygments_lexer": "ipython3",
   "version": "3.10.15"
  }
 },
 "nbformat": 4,
 "nbformat_minor": 5
}
