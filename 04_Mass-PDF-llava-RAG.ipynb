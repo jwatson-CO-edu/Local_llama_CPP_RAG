{
 "cells": [
  {
   "cell_type": "markdown",
   "id": "7be32f03-7b01-4bd0-abb1-728bf4b5284b",
   "metadata": {},
   "source": [
    "# Preliminaries + Installs"
   ]
  },
  {
   "cell_type": "markdown",
   "id": "eaa46804-4309-41ff-85ba-904a05e11b6d",
   "metadata": {},
   "source": [
    "These instructions are for Python 3.10\n",
    "### Fix Pillow\n",
    "* `cd /usr/lib/python3/dist-packages`\n",
    "* `sudo rm -rf pillow-10.2.0.egg-info`\n",
    "* `python3.10 -m pip install Pillow --user`\n",
    "### Install Ollama\n",
    "* `cd /tmp`\n",
    "* `curl -fsSL https://ollama.com/install.sh | sh`\n",
    "* Test, Optional (2GB download): `ollama run llama3.2`, Type `/bye` when done\n",
    "### Install Langchain\n",
    "* `python3.10 -m pip install langchain langchain_community langchain_chroma langchain_ollama llama-index-legacy langchain-unstructured --user`\n",
    "* `python3.10 -m pip install pypdf \"unstructured[pdf]\" --user` , This needed to be separate for some reason.\n",
    "### Install SQLite ( >= 3.35.0 required, This will install 3.46 )\n",
    "* `sudo apt install libreadline-dev python3.10-dev`\n",
    "* `wget https://sqlite.org/2024/sqlite-autoconf-3460100.tar.gz`\n",
    "* `tar -xvf sqlite-autoconf-3460100.tar.gz && cd sqlite-autoconf-3460100`\n",
    "* `./configure`\n",
    "* `make`\n",
    "* `sudo make install`\n",
    "* `python3.10 -m pip uninstall pysqlite3`\n",
    "* `python3.10 -m pip install pysqlite3-binary --user`"
   ]
  },
  {
   "cell_type": "markdown",
   "id": "db8accfe-d20f-49f8-a171-5dea85fe90c3",
   "metadata": {},
   "source": [
    "# Build/Expand Document Database + Embeddings"
   ]
  },
  {
   "cell_type": "markdown",
   "id": "15b8be64-1186-4fc2-a5e6-ba4b0ed9249f",
   "metadata": {},
   "source": [
    "## State"
   ]
  },
  {
   "cell_type": "code",
   "execution_count": 1,
   "id": "97a98174-c799-4dc2-ba0c-610379602900",
   "metadata": {},
   "outputs": [],
   "source": [
    "from os import environ, path\n",
    "import time, sys, json\n",
    "now = time.time\n",
    "\n",
    "from utils import RAG_State\n",
    "\n",
    "\n",
    "environ[\"_RAG_STATE_PATH\"] = \"data/state.json\"\n",
    "\n",
    "RAGstate = RAG_State.load_state( environ[\"_RAG_STATE_PATH\"] )"
   ]
  },
  {
   "cell_type": "markdown",
   "id": "9a32057c-f5bd-4aea-a78f-9bb14b28f510",
   "metadata": {},
   "source": [
    "## Copy PDFs"
   ]
  },
  {
   "cell_type": "code",
   "execution_count": 2,
   "id": "8219dcd5-258d-4463-bb82-bcafaa104e8a",
   "metadata": {},
   "outputs": [],
   "source": [
    "import os\n",
    "from os import path, makedirs\n",
    "# from aa_scrape_PDF import copy_pdfs\n",
    "\n",
    "environ[\"_RAG_PDF_SOURCE\"] = \"/media/james/FILEPILE/$_Robust_Planning/Literature/References/storage\"\n",
    "environ[\"_RAG_PDF_DESTIN\"] = \"data/input/pdf\"\n",
    "environ[\"_RAG_PDF_ERROR\"]  = \"data/input/BAD_PDF\"\n",
    "environ[\"_RAG_PAGE_DESTN\"] = \"data/input/pages\"\n",
    "environ[\"_RAG_VERBOSE\"]    =    \"\"\n",
    "environ[\"_RAG_DOC_ADD\"]    =   \"400\" #\"25\" #\"200\"\n",
    "environ[\"_RAG_DOC_LIMIT\"]  = \"20000\"\n",
    "environ[\"_RAG_DOC_DBASE\"]  = \"lit_pdf\"\n",
    "environ[\"_RAG_RUN_QUERY\"]  = \"\" #\"True\"\n",
    "\n",
    "if not path.exists( environ[\"_RAG_PDF_ERROR\"] ):\n",
    "    makedirs( environ[\"_RAG_PDF_ERROR\"] )\n"
   ]
  },
  {
   "cell_type": "markdown",
   "id": "1335fa2a-8447-41b8-aca7-c2b31156624d",
   "metadata": {},
   "source": [
    "## Determine if more docs will be loaded this session"
   ]
  },
  {
   "cell_type": "code",
   "execution_count": 3,
   "id": "1794aee4-6208-43eb-b8e0-3e13ff3c4566",
   "metadata": {},
   "outputs": [],
   "source": [
    "%%capture\n",
    "# Loading the vector store sometimes spews warnings\n",
    "\n",
    "__import__('pysqlite3')\n",
    "sys.modules['sqlite3'] = sys.modules.pop( 'pysqlite3' )\n",
    "import chromadb\n",
    "from langchain_chroma import Chroma\n",
    "\n",
    "\n",
    "persistent_client = chromadb.PersistentClient();\n",
    "collection        = persistent_client.get_or_create_collection( environ[\"_RAG_DOC_DBASE\"] );\n",
    "\n",
    "pdfs_drct   = environ[\"_RAG_PDF_DESTIN\"]\n",
    "eror_drct   = environ[\"_RAG_PDF_ERROR\" ]\n",
    "fNames      = [item for item in os.listdir( pdfs_drct ) if (str( item ).split('.')[-1].lower() == 'pdf')]\n",
    "\n",
    "environ[\"_RAG_PDF_COUNT\"   ] = str( len( fNames ) )\n",
    "environ[\"_RAG_DOCDB_COUNT\" ] = str( collection.count() )\n",
    "environ[\"_RAG_DOCDB_REMAIN\"] = str( min( int(environ[\"_RAG_DOC_LIMIT\"])-len(RAGstate.docPaths), int(environ[\"_RAG_DOC_ADD\"]) ) )\n"
   ]
  },
  {
   "cell_type": "code",
   "execution_count": 4,
   "id": "3c9db8f2-bada-49c1-99fd-acfb34e4157f",
   "metadata": {},
   "outputs": [
    {
     "name": "stdout",
     "output_type": "stream",
     "text": [
      "10514 input PDFs exist!\n",
      "225139 vector records exist!\n",
      "400 files will be copied!\n",
      "........................................................................................................................................................................................................................\n"
     ]
    }
   ],
   "source": [
    "from utils import copy_pdfs\n",
    "\n",
    "print( f\"{environ['_RAG_PDF_COUNT' ]} input PDFs exist!\" )\n",
    "print( f\"{environ['_RAG_DOCDB_COUNT' ]} vector records exist!\" )\n",
    "print( f\"{environ['_RAG_DOCDB_REMAIN']} files will be copied!\" )\n",
    "\n",
    "copy_pdfs( environ[\"_RAG_PDF_SOURCE\"], environ[\"_RAG_PDF_DESTIN\"], \n",
    "           int(environ['_RAG_DOCDB_REMAIN']), verbose = environ[\"_RAG_VERBOSE\"] )"
   ]
  },
  {
   "cell_type": "markdown",
   "id": "97b97eeb-bbeb-4b40-b0a2-61b8f7643707",
   "metadata": {},
   "source": [
    "## Load PDFs by page chunks"
   ]
  },
  {
   "cell_type": "markdown",
   "id": "393314ba-7acb-46bf-bfb8-640e72407061",
   "metadata": {},
   "source": [
    "### https://python.langchain.com/docs/how_to/document_loader_pdf/"
   ]
  },
  {
   "cell_type": "markdown",
   "id": "d3c5b7d6-c463-4917-89e4-f1aa6c040058",
   "metadata": {},
   "source": [
    "* `python3.10 -m pip install pypdf langchain-unstructured \"unstructured[pdf]\" --user`\n",
    "* `apt install tesseract-ocr`"
   ]
  },
  {
   "cell_type": "code",
   "execution_count": 5,
   "id": "2a906ea0-8714-47bf-99f8-124dc9862b35",
   "metadata": {},
   "outputs": [],
   "source": [
    "\n",
    "def collect_unique_metadata_by_key( key ):\n",
    "    \"\"\" Return a list of unqiue metadata values from the vector store by `key` \"\"\"\n",
    "    global collection\n",
    "    unique = set()\n",
    "    for result in collection.get()['metadatas']:\n",
    "       if key in result:\n",
    "           unique.add( result[key] )\n",
    "    return list( unique )\n",
    "\n",
    "\n",
    "def find_unread_PDFs_at_input():\n",
    "    \"\"\" Return a list of PDF paths that do NOT have pages in the vector store \"\"\"\n",
    "    global RAGstate\n",
    "    inputPDFs = collect_unique_metadata_by_key( 'source' )\n",
    "    rtnPaths  = list()\n",
    "    for pdf in inputPDFs:\n",
    "        if pdf not in RAGstate['libDocs']:\n",
    "            rtnPaths.append( pdf )\n",
    "    return rtnPaths\n",
    "            "
   ]
  },
  {
   "cell_type": "code",
   "execution_count": 6,
   "id": "b8a2cca2-b617-4243-9e82-82e26de66e79",
   "metadata": {},
   "outputs": [
    {
     "name": "stdout",
     "output_type": "stream",
     "text": [
      "There are 10514 candidate files!\n",
      "65:41:41, 241:7:48, 246:11:59, 402:6:65, 408:14:79, 442:2:81, 507:15:96, "
     ]
    },
    {
     "name": "stderr",
     "output_type": "stream",
     "text": [
      "Advanced encoding /KSCms-UHC-H not implemented yet\n",
      "Advanced encoding /KSCms-UHC-H not implemented yet\n",
      "Advanced encoding /90ms-RKSJ-H not implemented yet\n",
      "Advanced encoding /KSCms-UHC-H not implemented yet\n",
      "Advanced encoding /90ms-RKSJ-H not implemented yet\n"
     ]
    },
    {
     "name": "stdout",
     "output_type": "stream",
     "text": [
      "588:7:103, 764:8:111, 766:11:122, 836:3:125, 868:21:146, 1077:17:163, 1186:27:190, 1194:129:319, 1218:3:322, "
     ]
    },
    {
     "name": "stderr",
     "output_type": "stream",
     "text": [
      "Advanced encoding /KSCms-UHC-H not implemented yet\n",
      "Advanced encoding /90ms-RKSJ-H not implemented yet\n",
      "Advanced encoding /KSCms-UHC-H not implemented yet\n"
     ]
    },
    {
     "name": "stdout",
     "output_type": "stream",
     "text": [
      "1248:4:326, 1350:1:327, 1417:75:402, 1418:135:537, 1484:1:538, 1526:3:541, 1531:3:544, 1664:9:553, 1691:1:554, 1697:1:555, 1735:95:650, 1797:27:677, 1855:6:683, 1871:2:685, 1940:1:686, 1984:3:689, 2013:7:696, 2043:3:699, 2069:4:703, 2176:1:704, 2181:13:717, 2291:376:1093, 2455:1:1094, 2639:7:1101, 2650:17:1118, 2829:20:1138, 2860:66:1204, 2957:20:1224, 3035:16:1240, 3112:15:1255, 3167:45:1300, 3424:6:1306, 3425:21:1327, 3468:23:1350, 3544:2:1352, 3571:60:1412, 3573:72:1484, 3631:585:2069, 3792:7:2076, 3827:196:2272, 3857:1:2273, 3879:2:2275, 3885:5:2280, 3886:24:2304, 3988:204:2508, 4036:8:2516, "
     ]
    },
    {
     "name": "stderr",
     "output_type": "stream",
     "text": [
      "Advanced encoding /KSCms-UHC-H not implemented yet\n"
     ]
    },
    {
     "name": "stdout",
     "output_type": "stream",
     "text": [
      "4086:5:2521, 4162:135:2656, 4238:7:2663, 4269:9:2672, 4370:30:2702, 4375:3:2705, 4385:12:2717, 4428:20:2737, 4493:44:2781, 4519:14:2795, 4577:33:2828, 4675:5:2833, 4679:9:2842, 4719:2:2844, "
     ]
    },
    {
     "name": "stderr",
     "output_type": "stream",
     "text": [
      "could not convert string to float: b'0.00-71968505' : FloatObject (b'0.00-71968505') invalid; use 0.0 instead\n"
     ]
    },
    {
     "name": "stdout",
     "output_type": "stream",
     "text": [
      "4778:17:2861, 4836:20:2881, 4881:365:3246, 4989:13:3259, 5048:13:3272, 5418:6:3278, 5479:266:3544, 5600:5:3549, 5668:9:3558, 5733:7:3565, 5759:7:3572, 5865:9:3581, 5939:1:3582, 5950:11:3593, 5961:10:3603, 6051:8:3611, 6199:24:3635, 6270:2:3637, 6353:18:3655, "
     ]
    },
    {
     "name": "stderr",
     "output_type": "stream",
     "text": [
      "Advanced encoding /KSCms-UHC-H not implemented yet\n",
      "Advanced encoding /90ms-RKSJ-H not implemented yet\n",
      "Advanced encoding /KSCms-UHC-H not implemented yet\n",
      "Advanced encoding /90ms-RKSJ-H not implemented yet\n",
      "Advanced encoding /KSCms-UHC-H not implemented yet\n",
      "Advanced encoding /KSCms-UHC-H not implemented yet\n",
      "Advanced encoding /90ms-RKSJ-H not implemented yet\n"
     ]
    },
    {
     "name": "stdout",
     "output_type": "stream",
     "text": [
      "6405:4:3659, 6442:8:3667, 6519:13:3680, "
     ]
    },
    {
     "name": "stderr",
     "output_type": "stream",
     "text": [
      "Ignoring wrong pointing object 19 0 (offset 0)\n",
      "Ignoring wrong pointing object 21 0 (offset 0)\n",
      "Ignoring wrong pointing object 305 0 (offset 0)\n"
     ]
    },
    {
     "name": "stdout",
     "output_type": "stream",
     "text": [
      "6714:76:3756, 6715:89:3845, 6743:10:3855, 6826:59:3914, 6833:38:3952, 6846:4:3956, 6874:7:3963, 6965:19:3982, 7036:7:3989, 7151:7:3996, 7331:10:4006, 7358:15:4021, 7532:150:4171, 7542:118:4289, 7552:3:4292, 7741:12:4304, 7762:2:4306, 7801:6:4312, 7837:4:4316, 7844:2:4318, "
     ]
    },
    {
     "name": "stderr",
     "output_type": "stream",
     "text": [
      "Ignoring wrong pointing object 21 0 (offset 0)\n",
      "Ignoring wrong pointing object 202 0 (offset 0)\n",
      "Ignoring wrong pointing object 345 0 (offset 0)\n"
     ]
    },
    {
     "name": "stdout",
     "output_type": "stream",
     "text": [
      "7853:54:4372, 8064:35:4407, 8065:279:4686, 8076:8:4694, 8300:21:4715, "
     ]
    },
    {
     "name": "stderr",
     "output_type": "stream",
     "text": [
      "Advanced encoding /KSCms-UHC-H not implemented yet\n",
      "Advanced encoding /90ms-RKSJ-H not implemented yet\n",
      "Advanced encoding /KSCms-UHC-H not implemented yet\n",
      "Advanced encoding /90ms-RKSJ-H not implemented yet\n",
      "Advanced encoding /KSCms-UHC-H not implemented yet\n",
      "Advanced encoding /90ms-RKSJ-H not implemented yet\n",
      "Advanced encoding /KSCms-UHC-H not implemented yet\n",
      "Advanced encoding /90ms-RKSJ-H not implemented yet\n",
      "Advanced encoding /KSCms-UHC-H not implemented yet\n",
      "Advanced encoding /90ms-RKSJ-H not implemented yet\n",
      "Advanced encoding /KSCms-UHC-H not implemented yet\n",
      "Advanced encoding /90ms-RKSJ-H not implemented yet\n",
      "Advanced encoding /KSCms-UHC-H not implemented yet\n",
      "Advanced encoding /90ms-RKSJ-H not implemented yet\n",
      "Advanced encoding /KSCms-UHC-H not implemented yet\n",
      "Advanced encoding /90ms-RKSJ-H not implemented yet\n",
      "Advanced encoding /KSCms-UHC-H not implemented yet\n",
      "Advanced encoding /90ms-RKSJ-H not implemented yet\n",
      "Advanced encoding /KSCms-UHC-H not implemented yet\n",
      "Advanced encoding /90ms-RKSJ-H not implemented yet\n",
      "Advanced encoding /KSCms-UHC-H not implemented yet\n",
      "Advanced encoding /KSCms-UHC-H not implemented yet\n",
      "Advanced encoding /90ms-RKSJ-H not implemented yet\n",
      "Advanced encoding /KSCms-UHC-H not implemented yet\n",
      "Advanced encoding /90ms-RKSJ-H not implemented yet\n"
     ]
    },
    {
     "name": "stdout",
     "output_type": "stream",
     "text": [
      "8309:14:4729, 8362:6:4735, 8406:488:5223, 8411:10:5233, 8463:83:5316, 8486:1:5317, 8489:1:5318, 8506:6:5324, "
     ]
    },
    {
     "name": "stderr",
     "output_type": "stream",
     "text": [
      "Advanced encoding /KSCms-UHC-H not implemented yet\n",
      "Advanced encoding /90ms-RKSJ-H not implemented yet\n",
      "Advanced encoding /KSCms-UHC-H not implemented yet\n",
      "Advanced encoding /KSCms-UHC-H not implemented yet\n"
     ]
    },
    {
     "name": "stdout",
     "output_type": "stream",
     "text": [
      "8522:4:5328, 8525:4:5332, 8752:1:5333, 8765:2:5335, 8799:2:5337, 8971:14:5351, 9053:11:5362, 9287:8:5370, 9333:11:5381, 9414:8:5389, 9485:24:5413, 9519:10:5423, 9538:10:5433, 9694:1:5434, 9848:7:5441, 9981:6:5447, 9991:21:5468, 10427:39:5507, 10442:17:5524, 10443:20:5544, 10451:19:5563, 10471:132:5695, 10498:7:5702, \n",
      "Read 5702 pages in 3.47 minutes! (Skipped 10360 existing PDFs.)\n"
     ]
    }
   ],
   "source": [
    "import os, shutil\n",
    "from collections import deque\n",
    "from langchain_community.document_loaders import PyPDFLoader\n",
    "\n",
    "pages = deque() # Fast append\n",
    "\n",
    "\n",
    "# needToParse = find_unread_PDFs_at_input()\n",
    "# fNames.extend( needToParse )\n",
    "\n",
    "print( f\"There are {len(fNames)} candidate files!\" )\n",
    "\n",
    "if len( fNames ) > 0:\n",
    "    bgn    = now()\n",
    "    lastLn = 0\n",
    "    Nexist = 0\n",
    "    \n",
    "    for i, fNam in enumerate( fNames ):\n",
    "        # file_path = str( path.join( pdfs_drct, fNam ) ) # fNam # str( path.join( pdfs_drct, fNam ) )\n",
    "        file_path = fr\"{path.join( pdfs_drct, fNam )}\" # fNam # str( path.join( pdfs_drct, fNam ) )\n",
    "        # file_path = file_path.replace( ' ', '\\\\ ' )\n",
    "        # file_path = file_path.replace( ' ', '\\\\ ' )\n",
    "        if file_path not in RAGstate.docPaths:\n",
    "            try:\n",
    "                loader    = PyPDFLoader( file_path )\n",
    "                async for page in loader.alazy_load():\n",
    "                    pages.append( page )\n",
    "                print( f\"{i+1}:{len(pages)-lastLn}:{len(pages)}\", end = ', ', flush = True )\n",
    "                lastLn = len(pages)\n",
    "            except Exception as e:\n",
    "                print( f\"ERROR:{e}\", end = ', ', flush = True )\n",
    "                try:\n",
    "                    # errr_path = str(path.join( eror_drct, fNam ))\n",
    "                    errr_path = fr\"{path.join( eror_drct, fNam )}\"\n",
    "                    # errr_path = errr_path.replace( ' ', '\\\\ ' )\n",
    "                    shutil.move( file_path, errr_path )\n",
    "                except Exception as e:\n",
    "                    print( f\"FAILED to move {file_path} --to-> {path.join( eror_drct, fNam )}\" )\n",
    "            except asyncio.CancelledError as e:\n",
    "                print( f\"Load operation cancelled by user\" )\n",
    "                raise e\n",
    "        else:\n",
    "            Nexist += 1\n",
    "                    \n",
    "    print()\n",
    "    pages = list( pages )\n",
    "    print( f\"Read {len(pages)} pages in {(now()-bgn)/60.0:.2f} minutes! (Skipped {Nexist} existing PDFs.)\" )\n",
    "\n",
    "RAGstate.save_state( environ[\"_RAG_STATE_PATH\"] )"
   ]
  },
  {
   "cell_type": "code",
   "execution_count": 7,
   "id": "e216559a-5e4b-4d21-a8ff-6d796e0c5dfc",
   "metadata": {},
   "outputs": [],
   "source": [
    "# print(f\"{pages[0].metadata}\\n\")\n",
    "# print(pages[0].page_content)"
   ]
  },
  {
   "cell_type": "markdown",
   "id": "ca0be2b0-5b1c-4838-b4db-62b518afeac4",
   "metadata": {},
   "source": [
    "## Load the text embedding model"
   ]
  },
  {
   "cell_type": "code",
   "execution_count": 8,
   "id": "35da1790-0281-4af3-8b81-88560fc16a6c",
   "metadata": {},
   "outputs": [
    {
     "name": "stdout",
     "output_type": "stream",
     "text": [
      "About to save 'all-minilm'.\n",
      "This will spew a lot of text on the first run...\n"
     ]
    },
    {
     "name": "stderr",
     "output_type": "stream",
     "text": [
      "\u001b[?25lpulling manifest ⠙ \u001b[?25h\u001b[?25l\u001b[2K\u001b[1Gpulling manifest ⠹ \u001b[?25h\u001b[?25l\u001b[2K\u001b[1Gpulling manifest ⠹ \u001b[?25h\u001b[?25l\u001b[2K\u001b[1Gpulling manifest ⠸ \u001b[?25h\u001b[?25l\u001b[2K\u001b[1Gpulling manifest ⠴ \u001b[?25h\u001b[?25l\u001b[2K\u001b[1Gpulling manifest \n",
      "pulling 797b70c4edf8... 100% ▕████████████████▏  45 MB                         \n",
      "pulling c71d239df917... 100% ▕████████████████▏  11 KB                         \n",
      "pulling 85011998c600... 100% ▕████████████████▏   16 B                         \n",
      "pulling 548455b72658... 100% ▕████████████████▏  407 B                         \n",
      "verifying sha256 digest \n",
      "writing manifest \n",
      "success \u001b[?25h\n"
     ]
    }
   ],
   "source": [
    "import sys, os, time\n",
    "now = time.time\n",
    "\n",
    "from utils import pull_ollama_model\n",
    "\n",
    "from langchain_ollama import OllamaEmbeddings\n",
    "\n",
    "pull_ollama_model( \"all-minilm\" )\n",
    "\n",
    "local_embeddings = OllamaEmbeddings( model = \"all-minilm\" )"
   ]
  },
  {
   "cell_type": "markdown",
   "id": "fdd67496-84af-4d78-8e3d-1284822eed3a",
   "metadata": {},
   "source": [
    "## Populate document vector database (of pages)"
   ]
  },
  {
   "cell_type": "code",
   "execution_count": 9,
   "id": "91002b1f-26e3-488c-b3d3-e751d1f8f146",
   "metadata": {},
   "outputs": [],
   "source": [
    "import base64\n",
    "import io\n",
    "\n",
    "import fitz, pymupdf\n",
    "from PIL import Image\n",
    "\n",
    "\n",
    "def pdf_page_to_base64( pdf_path: str, page_number: int ):\n",
    "    zoom_x       = 1.5  # horizontal zoom\n",
    "    zoom_y       = 1.5  # vertical zoom\n",
    "    mat          = pymupdf.Matrix( zoom_x, zoom_y )\n",
    "    pdf_document = fitz.open( pdf_path )\n",
    "    page         = pdf_document.load_page(page_number - 1)  # input is one-indexed\n",
    "    pix          = page.get_pixmap( matrix = mat )\n",
    "    img          = Image.frombytes(\"RGB\", [pix.width, pix.height], pix.samples)\n",
    "    buffer       = io.BytesIO()\n",
    "    \n",
    "    img.save( buffer, format=\"PNG\" )\n",
    "\n",
    "    return base64.b64encode( buffer.getvalue() ).decode(\"utf-8\")"
   ]
  },
  {
   "cell_type": "code",
   "execution_count": 10,
   "id": "571f7d54-8795-4b9b-8a8c-66459c4e9d60",
   "metadata": {},
   "outputs": [
    {
     "name": "stdout",
     "output_type": "stream",
     "text": [
      ".........................................................................MuPDF error: syntax error: could not parse color space (921 0 R)\n",
      "\n",
      "MuPDF error: syntax error: could not parse color space (315 0 R)\n",
      "\n",
      "MuPDF error: syntax error: could not parse color space (612 0 R)\n",
      "\n",
      "MuPDF error: syntax error: could not parse color space (765 0 R)\n",
      "\n",
      "MuPDF error: syntax error: could not parse color space (857 0 R)\n",
      "\n",
      "MuPDF error: syntax error: could not parse color space (889 0 R)\n",
      "\n",
      "..........................................\n"
     ]
    },
    {
     "name": "stderr",
     "output_type": "stream",
     "text": [
      "Exception occurred invoking consumer for subscription 7ce98a0fa87b4056a2d6ac405daef0c1to topic persistent://default/default/a84553ac-5e8e-4481-8051-a5e59bf2af75 'utf-8' codec can't encode character '\\ud835' in position 2720: surrogates not allowed\n"
     ]
    },
    {
     "name": "stdout",
     "output_type": "stream",
     "text": [
      "Added 5702 documents in 10.83 minutes!\n"
     ]
    }
   ],
   "source": [
    "import pickle\n",
    "\n",
    "from utils import gen_ID\n",
    "\n",
    "if not path.exists( environ[\"_RAG_PAGE_DESTN\"] ):\n",
    "    makedirs( environ[\"_RAG_PAGE_DESTN\"] )\n",
    "\n",
    "\n",
    "def get_page_meta_key( source, page ):\n",
    "    \"\"\" Generate a (probably not) unique page key with useful data that can also be used for sorting \"\"\"\n",
    "    return str( source ).split('/')[-1].replace(' ','') + '_' + str( page )\n",
    "\n",
    "\n",
    "if int(environ[\"_RAG_DOCDB_REMAIN\"]) > 0:\n",
    "    bgn = now()\n",
    "    docIDs  = [str( gen_ID() ) for _ in range( len(pages) )]\n",
    "    dcmnts  = [str( pg.page_content ) for pg in pages]\n",
    "    metaDt  = deque() # Fast append\n",
    "    d       = 50\n",
    "    readSet = set([])\n",
    "\n",
    "    for i, pg in enumerate( pages ):\n",
    "\n",
    "        id_i  = docIDs[i]\n",
    "        \n",
    "        # Save Text Metadata #\n",
    "        mDct = pg.metadata\n",
    "        mDct['metakey'] = get_page_meta_key( pg.metadata['source'], pg.metadata['page'] )\n",
    "        mDct['docID'  ] = id_i\n",
    "        metaDt.append( mDct )\n",
    "\n",
    "        src = pg.metadata['source']\n",
    "\n",
    "        #  vv- Quick Search -vv     vvvvv--- Long Search ---vvvvvvvv\n",
    "        if (src not in readSet) and (src not in RAGstate.docPaths):\n",
    "            readSet.add( src )\n",
    "            RAGstate.docPaths.append( src )\n",
    "\n",
    "        # Save PDF Page image #\n",
    "        try:\n",
    "            pkl_i = path.join( environ[\"_RAG_PAGE_DESTN\"], f\"{id_i}.pkl\" )\n",
    "            pgPic = pdf_page_to_base64( pg.metadata['source'], pg.metadata['page'] )\n",
    "            \n",
    "            with open( pkl_i, 'wb' ) as f:\n",
    "                RAGstate.pgImgs[ id_i ] = str( pkl_i )\n",
    "                pickle.dump( pgPic, f )\n",
    "        except Exception as e:\n",
    "            print( f\"Could NOT save image ID {id_i}!, {e}\" )\n",
    "\n",
    "        if (i % d == 0):\n",
    "            print( '.', end='', flush = True )\n",
    "    print()\n",
    "\n",
    "    metaDt = list( metaDt )\n",
    "\n",
    "    if len( metaDt ):\n",
    "        collection.add(\n",
    "            ids       = docIDs, \n",
    "            metadatas = metaDt,\n",
    "            documents = dcmnts\n",
    "        )\n",
    "        print( f\"Added {len(dcmnts)} documents in {(now()-bgn)/60.0:.2f} minutes!\" )\n",
    "    else:\n",
    "        print( f\"NO documents to add!\" )\n",
    "\n",
    "RAGstate.save_state( environ[\"_RAG_STATE_PATH\"] )\n",
    "\n"
   ]
  },
  {
   "cell_type": "markdown",
   "id": "db6c3459-9cfc-4e17-b249-172bce6cdf2a",
   "metadata": {},
   "source": [
    "# Create vector store"
   ]
  },
  {
   "cell_type": "code",
   "execution_count": 11,
   "id": "aa5000e0-162c-4f28-9f2b-1e896f42f924",
   "metadata": {},
   "outputs": [
    {
     "name": "stdout",
     "output_type": "stream",
     "text": [
      "Built vector store in 0.0027 seconds!\n"
     ]
    }
   ],
   "source": [
    "bgn = now()\n",
    "vector_store_from_client = Chroma(\n",
    "    client             = persistent_client,\n",
    "    collection_name    = environ[\"_RAG_DOC_DBASE\"],\n",
    "    embedding_function = local_embeddings,\n",
    ")\n",
    "print( f\"Built vector store in {(now()-bgn):.4f} seconds!\" )"
   ]
  },
  {
   "cell_type": "markdown",
   "id": "5de7fbc1-f2ba-4ad4-aef4-8bec59bca58d",
   "metadata": {},
   "source": [
    "# Load VLM"
   ]
  },
  {
   "cell_type": "code",
   "execution_count": 12,
   "id": "fbf9a2dc-a228-43c6-bd29-42247f7c9f41",
   "metadata": {},
   "outputs": [],
   "source": [
    "from langchain_ollama import ChatOllama\n",
    "\n",
    "if environ[\"_RAG_RUN_QUERY\"]:\n",
    "    pull_ollama_model( \"llava\" )\n",
    "    \n",
    "    llm = ChatOllama(\n",
    "        model=\"llava\",\n",
    "    )\n",
    "else:\n",
    "    llm = None"
   ]
  },
  {
   "cell_type": "markdown",
   "id": "f0461630-e0ca-4dfe-924f-ef19fb70d688",
   "metadata": {},
   "source": [
    "# Setup LangChain"
   ]
  },
  {
   "cell_type": "code",
   "execution_count": 13,
   "id": "cb6c1e36-8c5d-4191-9faa-d07f579578df",
   "metadata": {},
   "outputs": [],
   "source": [
    "os.environ[\"LANGCHAIN_TRACING_V1\"] = \"false\"\n",
    "os.environ[\"LANGCHAIN_TRACING_V2\"] = \"false\"\n",
    "\n",
    "if environ[\"_RAG_RUN_QUERY\"]:\n",
    "    # from langchain import hub\n",
    "    from langchain_core.runnables import RunnablePassthrough\n",
    "    from langchain_core.prompts import PromptTemplate\n",
    "    from langchain_core.output_parsers import StrOutputParser, JsonOutputParser\n",
    "    \n",
    "    # Retrieve and generate using the relevant snippets of the blog.\n",
    "    retriever = vector_store_from_client.as_retriever()\n",
    "    \n",
    "    # Instantiation using from_template (recommended)\n",
    "    prompt1 = PromptTemplate( \n",
    "        template = \"\"\"You are an expert assistant capable of interpreting textual information to provide accurate \n",
    "                      and detailed responses. You are provided with the following data:\n",
    "                      Context: {docData}\n",
    "                      Text query: {userQuery}\n",
    "                      Use your understanding of the provided context to generate a response to based on \n",
    "                      relevant, up-to-date information. Ensure your answer is factually accurate, detailed, and leverages academic \n",
    "                      sources where possible. If additional context is required for clarification, request it from the user.\"\"\",\n",
    "        input_variables = [\"docData\",\"userQuery\"],\n",
    "    )\n",
    "    \n",
    "    \n",
    "    def format_docs(docs):\n",
    "        return \"\\n\\n\".join(doc.page_content for doc in docs)\n",
    "    \n",
    "    rag_chain1 = (\n",
    "        { \"docData\": retriever | format_docs, \n",
    "          \"userQuery\": RunnablePassthrough()}\n",
    "        | prompt1\n",
    "        | llm\n",
    "        | StrOutputParser()\n",
    "    )"
   ]
  },
  {
   "cell_type": "code",
   "execution_count": 14,
   "id": "5855a5e1-58d6-4551-b78d-ad7b964c3e6f",
   "metadata": {},
   "outputs": [],
   "source": [
    "def ask_with_sources( q ):\n",
    "    retrieved_docs = retriever.invoke( q )\n",
    "    generated_ansr = rag_chain1.invoke( q )\n",
    "    return {\n",
    "        'response' : generated_ansr,\n",
    "        'sources'  : retrieved_docs,\n",
    "    }"
   ]
  },
  {
   "cell_type": "code",
   "execution_count": 15,
   "id": "444e3c3c-c046-4e1a-9604-b8409a5e9097",
   "metadata": {},
   "outputs": [],
   "source": [
    "def fetch_local_pages( sourceList ):\n",
    "    global RAGstate\n",
    "    rtnObjs = list()\n",
    "    for source in sourceList:\n",
    "        if source.metadata['docID'] in RAGstate.pgImgs:\n",
    "            pklPath = RAGstate.pgImgs[ source.metadata['docID'] ]\n",
    "            with open( pklPath, 'rb' ) as f:\n",
    "                obj_i = pickle.load( f )\n",
    "                rtnObjs.append( obj_i )\n",
    "        else:\n",
    "            print( f\"No page with ID {source.metadata['docID']}\" )\n",
    "    return rtnObjs"
   ]
  },
  {
   "cell_type": "code",
   "execution_count": 16,
   "id": "f94141ba-2bb3-4dc1-8063-dac1ebc4c9a0",
   "metadata": {},
   "outputs": [],
   "source": [
    "from pprint import pprint\n",
    "from IPython.display import Image as IPImage\n",
    "from IPython.display import display\n",
    "from langchain_core.messages import HumanMessage\n",
    "\n",
    "if environ[\"_RAG_RUN_QUERY\"]:\n",
    "    def deep_doc_ask( q ):\n",
    "        bgn = now()\n",
    "        res = ask_with_sources( q ) \n",
    "        pprint( res['response'] )\n",
    "        print( f\"Initial LLM summary took {now()-bgn:.2f} seconds to process!\" )\n",
    "        \n",
    "        pag = fetch_local_pages( res['sources'] )\n",
    "    \n",
    "        for p in pag:\n",
    "            display( IPImage( data = base64.b64decode( p ) ) )\n",
    "            message = HumanMessage(\n",
    "                content=[\n",
    "                    {\"type\": \"text\", \"text\": q},\n",
    "                    {\n",
    "                        \"type\": \"image_url\",\n",
    "                        \"image_url\": {\"url\": f\"data:image/jpeg;base64,{p}\"},\n",
    "                    },\n",
    "                ],\n",
    "            )\n",
    "            bgn = now()\n",
    "            response = llm.invoke( [message] )\n",
    "            print( f\"LLM query took {now()-bgn:.2f} seconds to process!\" )\n",
    "            pprint( response.content )"
   ]
  },
  {
   "cell_type": "code",
   "execution_count": 17,
   "id": "a979cf56-711a-4fc9-8961-6fe1ea5dc609",
   "metadata": {},
   "outputs": [],
   "source": [
    "if environ[\"_RAG_RUN_QUERY\"]:\n",
    "    deep_doc_ask( \"How do I estimate the running time of a robot plan based on confidence in the current state estimate?\" )"
   ]
  },
  {
   "cell_type": "code",
   "execution_count": null,
   "id": "48f180b5-5192-4a6b-bab0-056113ccfdb3",
   "metadata": {},
   "outputs": [],
   "source": []
  },
  {
   "cell_type": "code",
   "execution_count": null,
   "id": "49278e45-0731-427b-a86a-082e7a431e9c",
   "metadata": {},
   "outputs": [],
   "source": []
  },
  {
   "cell_type": "code",
   "execution_count": null,
   "id": "a87af5cf-40b1-4912-ae69-fd7d04565a62",
   "metadata": {},
   "outputs": [],
   "source": []
  },
  {
   "cell_type": "code",
   "execution_count": null,
   "id": "a1815ace-9adc-4c72-aaaf-d37d6f68ea0e",
   "metadata": {},
   "outputs": [],
   "source": []
  },
  {
   "cell_type": "code",
   "execution_count": null,
   "id": "cdcd0bce-e758-4e0b-a1b1-af1e361de2b5",
   "metadata": {},
   "outputs": [],
   "source": []
  },
  {
   "cell_type": "code",
   "execution_count": null,
   "id": "40f7d09c-38fe-45de-8dd2-254a9914bd16",
   "metadata": {},
   "outputs": [],
   "source": []
  },
  {
   "cell_type": "code",
   "execution_count": null,
   "id": "af5fb173-ae41-46bb-b930-8cff12c68006",
   "metadata": {},
   "outputs": [],
   "source": []
  },
  {
   "cell_type": "code",
   "execution_count": null,
   "id": "cea8ec26-bdc9-484e-b88d-e552b7bbee1c",
   "metadata": {},
   "outputs": [],
   "source": []
  }
 ],
 "metadata": {
  "kernelspec": {
   "display_name": "Python 3 (ipykernel)",
   "language": "python",
   "name": "python3"
  },
  "language_info": {
   "codemirror_mode": {
    "name": "ipython",
    "version": 3
   },
   "file_extension": ".py",
   "mimetype": "text/x-python",
   "name": "python",
   "nbconvert_exporter": "python",
   "pygments_lexer": "ipython3",
   "version": "3.10.12"
  }
 },
 "nbformat": 4,
 "nbformat_minor": 5
}
