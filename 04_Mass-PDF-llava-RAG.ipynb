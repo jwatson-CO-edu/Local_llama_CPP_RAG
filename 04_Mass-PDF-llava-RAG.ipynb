{
 "cells": [
  {
   "cell_type": "markdown",
   "id": "7be32f03-7b01-4bd0-abb1-728bf4b5284b",
   "metadata": {},
   "source": [
    "# Preliminaries + Installs"
   ]
  },
  {
   "cell_type": "markdown",
   "id": "eaa46804-4309-41ff-85ba-904a05e11b6d",
   "metadata": {},
   "source": [
    "These instructions are for Python 3.10\n",
    "### Fix Pillow\n",
    "* `cd /usr/lib/python3/dist-packages`\n",
    "* `sudo rm -rf pillow-10.2.0.egg-info`\n",
    "* `python3.10 -m pip install Pillow --user`\n",
    "### Install Ollama\n",
    "* `cd /tmp`\n",
    "* `curl -fsSL https://ollama.com/install.sh | sh`\n",
    "* Test, Optional (2GB download): `ollama run llama3.2`, Type `/bye` when done\n",
    "### Install Langchain\n",
    "* `python3.10 -m pip install langchain langchain_community langchain_chroma langchain_ollama llama-index-legacy langchain-unstructured --user`\n",
    "* `python3.10 -m pip install pypdf \"unstructured[pdf]\" --user` , This needed to be separate for some reason.\n",
    "### Install SQLite ( >= 3.35.0 required, This will install 3.46 )\n",
    "* `sudo apt install libreadline-dev python3.10-dev`\n",
    "* `wget https://sqlite.org/2024/sqlite-autoconf-3460100.tar.gz`\n",
    "* `tar -xvf sqlite-autoconf-3460100.tar.gz && cd sqlite-autoconf-3460100`\n",
    "* `./configure`\n",
    "* `make`\n",
    "* `sudo make install`\n",
    "* `python3.10 -m pip uninstall pysqlite3`\n",
    "* `python3.10 -m pip install pysqlite3-binary --user`"
   ]
  },
  {
   "cell_type": "markdown",
   "id": "db8accfe-d20f-49f8-a171-5dea85fe90c3",
   "metadata": {},
   "source": [
    "# Build/Expand Document Database + Embeddings"
   ]
  },
  {
   "cell_type": "markdown",
   "id": "15b8be64-1186-4fc2-a5e6-ba4b0ed9249f",
   "metadata": {},
   "source": [
    "## State"
   ]
  },
  {
   "cell_type": "code",
   "execution_count": 1,
   "id": "97a98174-c799-4dc2-ba0c-610379602900",
   "metadata": {},
   "outputs": [],
   "source": [
    "from os import environ, path\n",
    "import time, sys, json\n",
    "now = time.time\n",
    "\n",
    "environ[\"_RAG_STATE_PATH\"] = \"data/state.json\"\n",
    "\n",
    "RAGstate = {\n",
    "    'libDocs' : list(),\n",
    "    'pages'   : dict(),\n",
    "}\n",
    "\n",
    "def save_state():\n",
    "    global RAGstate\n",
    "    with open( environ[\"_RAG_STATE_PATH\"], 'w' ) as f:\n",
    "        json.dump( RAGstate, f, indent = 4 )\n",
    "\n",
    "def load_state():\n",
    "    global RAGstate\n",
    "    try:\n",
    "        with open( environ[\"_RAG_STATE_PATH\"], 'r' ) as f:\n",
    "            RAGstate = json.load(f)\n",
    "    except FileNotFoundError as e:\n",
    "        print( f\"Could not load {environ['_RAG_STATE_PATH']}!\\n{e}\" )\n",
    "\n",
    "load_state()"
   ]
  },
  {
   "cell_type": "markdown",
   "id": "d8bb7637-9d24-425a-8050-85c03ed0187b",
   "metadata": {},
   "source": [
    "## Helper Functions"
   ]
  },
  {
   "cell_type": "code",
   "execution_count": 2,
   "id": "7beb3242-a5b2-4203-936f-d1dbdd6d46b8",
   "metadata": {},
   "outputs": [],
   "source": [
    "from uuid import uuid4\n",
    "\n",
    "def safe_str( data ):\n",
    "    \"\"\"Filters out invalid UTF-8 characters from a string.\"\"\"\n",
    "    return str( data ).encode( 'utf-8', 'ignore' ).decode( 'utf-8' )\n",
    "\n",
    "def gen_ID():\n",
    "    \"\"\" Generate a unique ID \"\"\"\n",
    "    return safe_str( uuid4() )\n",
    "\n",
    "def pull_ollama_model( modelStr ):\n",
    "    \"\"\" Pull a named model from Ollama and store it wherever \"\"\"\n",
    "    print( f\"About to save '{modelStr}'.\\nThis will spew a lot of text on the first run...\" )\n",
    "    os.system( f\"ollama pull {modelStr}\" )\n",
    "\n"
   ]
  },
  {
   "cell_type": "markdown",
   "id": "9a32057c-f5bd-4aea-a78f-9bb14b28f510",
   "metadata": {},
   "source": [
    "## Copy PDFs"
   ]
  },
  {
   "cell_type": "code",
   "execution_count": 3,
   "id": "8219dcd5-258d-4463-bb82-bcafaa104e8a",
   "metadata": {},
   "outputs": [],
   "source": [
    "import os\n",
    "from os import path, makedirs\n",
    "# from aa_scrape_PDF import copy_pdfs\n",
    "\n",
    "environ[\"_RAG_PDF_SOURCE\"] = \"/media/james/FILEPILE/$_Robust_Planning/Literature/References/storage\"\n",
    "environ[\"_RAG_PDF_DESTIN\"] = \"data/input/pdf\"\n",
    "environ[\"_RAG_PDF_ERROR\"]  = \"data/input/BAD_PDF\"\n",
    "environ[\"_RAG_PAGE_DESTN\"] = \"data/input/pages\"\n",
    "environ[\"_RAG_VERBOSE\"]    =    \"\"\n",
    "environ[\"_RAG_DOC_ADD\"]    =   \"400\" #\"25\" #\"200\"\n",
    "environ[\"_RAG_DOC_LIMIT\"]  = \"20000\"\n",
    "environ[\"_RAG_DOC_DBASE\"]  = \"lit_pdf\"\n",
    "environ[\"_RAG_RUN_QUERY\"]  = \"\"\n",
    "\n",
    "if not path.exists( environ[\"_RAG_PDF_ERROR\"] ):\n",
    "    makedirs( environ[\"_RAG_PDF_ERROR\"] )\n"
   ]
  },
  {
   "cell_type": "markdown",
   "id": "1335fa2a-8447-41b8-aca7-c2b31156624d",
   "metadata": {},
   "source": [
    "## Determine if more docs will be loaded this session"
   ]
  },
  {
   "cell_type": "code",
   "execution_count": 4,
   "id": "1794aee4-6208-43eb-b8e0-3e13ff3c4566",
   "metadata": {},
   "outputs": [],
   "source": [
    "%%capture\n",
    "# Loading the vector store sometimes spews warnings\n",
    "\n",
    "__import__('pysqlite3')\n",
    "sys.modules['sqlite3'] = sys.modules.pop( 'pysqlite3' )\n",
    "import chromadb\n",
    "from langchain_chroma import Chroma\n",
    "\n",
    "\n",
    "persistent_client = chromadb.PersistentClient();\n",
    "collection        = persistent_client.get_or_create_collection( environ[\"_RAG_DOC_DBASE\"] );\n",
    "\n",
    "pdfs_drct   = environ[\"_RAG_PDF_DESTIN\"]\n",
    "eror_drct   = environ[\"_RAG_PDF_ERROR\" ]\n",
    "fNames      = [item for item in os.listdir( pdfs_drct ) if (str( item ).split('.')[-1].lower() == 'pdf')]\n",
    "\n",
    "environ[\"_RAG_PDF_COUNT\"   ] = str( len( fNames ) )\n",
    "environ[\"_RAG_DOCDB_COUNT\" ] = str( collection.count() )\n",
    "environ[\"_RAG_DOCDB_REMAIN\"] = str( min( int(environ[\"_RAG_DOC_LIMIT\"])-len(RAGstate['libDocs']), int(environ[\"_RAG_DOC_ADD\"]) ) )\n"
   ]
  },
  {
   "cell_type": "code",
   "execution_count": 5,
   "id": "3c9db8f2-bada-49c1-99fd-acfb34e4157f",
   "metadata": {},
   "outputs": [
    {
     "name": "stdout",
     "output_type": "stream",
     "text": [
      "10300 input PDFs exist!\n",
      "222945 vector records exist!\n",
      "400 files will be copied!\n",
      "....................................................................................................................................................................................................................\n"
     ]
    }
   ],
   "source": [
    "from utils import copy_pdfs\n",
    "\n",
    "print( f\"{environ['_RAG_PDF_COUNT' ]} input PDFs exist!\" )\n",
    "print( f\"{environ['_RAG_DOCDB_COUNT' ]} vector records exist!\" )\n",
    "print( f\"{environ['_RAG_DOCDB_REMAIN']} files will be copied!\" )\n",
    "\n",
    "copy_pdfs( environ[\"_RAG_PDF_SOURCE\"], environ[\"_RAG_PDF_DESTIN\"], \n",
    "           int(environ['_RAG_DOCDB_REMAIN']), verbose = environ[\"_RAG_VERBOSE\"] )"
   ]
  },
  {
   "cell_type": "markdown",
   "id": "97b97eeb-bbeb-4b40-b0a2-61b8f7643707",
   "metadata": {},
   "source": [
    "## Load PDFs by page chunks"
   ]
  },
  {
   "cell_type": "markdown",
   "id": "393314ba-7acb-46bf-bfb8-640e72407061",
   "metadata": {},
   "source": [
    "### https://python.langchain.com/docs/how_to/document_loader_pdf/"
   ]
  },
  {
   "cell_type": "markdown",
   "id": "d3c5b7d6-c463-4917-89e4-f1aa6c040058",
   "metadata": {},
   "source": [
    "* `python3.10 -m pip install pypdf langchain-unstructured \"unstructured[pdf]\" --user`\n",
    "* `apt install tesseract-ocr`"
   ]
  },
  {
   "cell_type": "code",
   "execution_count": 6,
   "id": "2a906ea0-8714-47bf-99f8-124dc9862b35",
   "metadata": {},
   "outputs": [],
   "source": [
    "\n",
    "def collect_unique_metadata_by_key( key ):\n",
    "    \"\"\" Return a list of unqiue metadata values from the vector store by `key` \"\"\"\n",
    "    global collection\n",
    "    unique = set()\n",
    "    for result in collection.get()['metadatas']:\n",
    "       if key in result:\n",
    "           unique.add( result[key] )\n",
    "    return list( unique )\n",
    "\n",
    "\n",
    "def find_unread_PDFs_at_input():\n",
    "    \"\"\" Return a list of PDF paths that do NOT have pages in the vector store \"\"\"\n",
    "    global RAGstate\n",
    "    inputPDFs = collect_unique_metadata_by_key( 'source' )\n",
    "    rtnPaths  = list()\n",
    "    for pdf in inputPDFs:\n",
    "        if pdf not in RAGstate['libDocs']:\n",
    "            rtnPaths.append( pdf )\n",
    "    return rtnPaths\n",
    "            "
   ]
  },
  {
   "cell_type": "code",
   "execution_count": 7,
   "id": "b8a2cca2-b617-4243-9e82-82e26de66e79",
   "metadata": {},
   "outputs": [
    {
     "name": "stdout",
     "output_type": "stream",
     "text": [
      "There are 10300 candidate files!\n",
      "67:25:25, 101:2:27, 355:2:29, 398:11:40, 1011:7:47, 1024:18:65, 1139:11:76, 1249:39:115, 1305:6:121, 1317:26:147, 1624:5:152, 1697:5:157, 2245:8:165, 2972:37:202, 3240:17:219, 3251:18:237, 3570:15:252, 3845:7:259, 4185:26:285, "
     ]
    },
    {
     "name": "stderr",
     "output_type": "stream",
     "text": [
      "could not convert string to float: b'0.00-23884514' : FloatObject (b'0.00-23884514') invalid; use 0.0 instead\n"
     ]
    },
    {
     "name": "stdout",
     "output_type": "stream",
     "text": [
      "4877:33:318, "
     ]
    },
    {
     "name": "stderr",
     "output_type": "stream",
     "text": [
      "Ignoring wrong pointing object 34 0 (offset 0)\n",
      "Ignoring wrong pointing object 37 0 (offset 0)\n",
      "Ignoring wrong pointing object 42 0 (offset 0)\n",
      "Ignoring wrong pointing object 114 0 (offset 0)\n",
      "Ignoring wrong pointing object 116 0 (offset 0)\n",
      "Ignoring wrong pointing object 123 0 (offset 0)\n",
      "Ignoring wrong pointing object 125 0 (offset 0)\n",
      "Ignoring wrong pointing object 127 0 (offset 0)\n",
      "Ignoring wrong pointing object 130 0 (offset 0)\n",
      "Ignoring wrong pointing object 154 0 (offset 0)\n"
     ]
    },
    {
     "name": "stdout",
     "output_type": "stream",
     "text": [
      "4920:13:331, 5273:17:348, 5275:14:362, 5686:5:367, 5795:13:380, 5921:8:388, 5990:13:401, 6048:7:408, 6189:23:431, 6416:27:458, 6654:20:478, 6660:8:486, 6770:23:509, 6843:29:538, 7216:17:555, 7217:37:592, 7257:16:608, 7296:6:614, 7319:20:634, 7325:7:641, 7361:18:659, 7391:8:667, 7430:37:704, 7581:25:729, 7709:28:757, 8074:18:775, 8137:5:780, 8173:27:807, 8183:18:825, 8509:21:846, 8636:10:856, 8893:5:861, 9182:18:879, 9620:22:901, 9892:9:910, 10014:22:932, \n",
      "Read 932 pages in 0.72 minutes! (Skipped 10244 existing PDFs.)\n"
     ]
    }
   ],
   "source": [
    "import os, shutil\n",
    "from collections import deque\n",
    "from langchain_community.document_loaders import PyPDFLoader\n",
    "\n",
    "pages = deque() # Fast append\n",
    "\n",
    "\n",
    "# needToParse = find_unread_PDFs_at_input()\n",
    "# fNames.extend( needToParse )\n",
    "\n",
    "print( f\"There are {len(fNames)} candidate files!\" )\n",
    "\n",
    "if len( fNames ) > 0:\n",
    "    bgn    = now()\n",
    "    lastLn = 0\n",
    "    Nexist = 0\n",
    "    \n",
    "    for i, fNam in enumerate( fNames ):\n",
    "        # file_path = str( path.join( pdfs_drct, fNam ) ) # fNam # str( path.join( pdfs_drct, fNam ) )\n",
    "        file_path = fr\"{path.join( pdfs_drct, fNam )}\" # fNam # str( path.join( pdfs_drct, fNam ) )\n",
    "        # file_path = file_path.replace( ' ', '\\\\ ' )\n",
    "        # file_path = file_path.replace( ' ', '\\\\ ' )\n",
    "        if file_path not in RAGstate['libDocs']:\n",
    "            try:\n",
    "                loader    = PyPDFLoader( file_path )\n",
    "                async for page in loader.alazy_load():\n",
    "                    pages.append( page )\n",
    "                print( f\"{i+1}:{len(pages)-lastLn}:{len(pages)}\", end = ', ', flush = True )\n",
    "                lastLn = len(pages)\n",
    "            except Exception as e:\n",
    "                print( f\"ERROR:{e}\", end = ', ', flush = True )\n",
    "                try:\n",
    "                    # errr_path = str(path.join( eror_drct, fNam ))\n",
    "                    errr_path = fr\"{path.join( eror_drct, fNam )}\"\n",
    "                    # errr_path = errr_path.replace( ' ', '\\\\ ' )\n",
    "                    shutil.move( file_path, errr_path )\n",
    "                except Exception as e:\n",
    "                    print( f\"FAILED to move {file_path} --to-> {path.join( eror_drct, fNam )}\" )\n",
    "            except asyncio.CancelledError as e:\n",
    "                print( f\"Load operation cancelled by user\" )\n",
    "                raise e\n",
    "        else:\n",
    "            Nexist += 1\n",
    "                    \n",
    "    print()\n",
    "    pages = list( pages )\n",
    "    print( f\"Read {len(pages)} pages in {(now()-bgn)/60.0:.2f} minutes! (Skipped {Nexist} existing PDFs.)\" )\n",
    "\n",
    "save_state()"
   ]
  },
  {
   "cell_type": "code",
   "execution_count": 8,
   "id": "e216559a-5e4b-4d21-a8ff-6d796e0c5dfc",
   "metadata": {},
   "outputs": [],
   "source": [
    "# print(f\"{pages[0].metadata}\\n\")\n",
    "# print(pages[0].page_content)"
   ]
  },
  {
   "cell_type": "markdown",
   "id": "ca0be2b0-5b1c-4838-b4db-62b518afeac4",
   "metadata": {},
   "source": [
    "## Load the text embedding model"
   ]
  },
  {
   "cell_type": "code",
   "execution_count": 9,
   "id": "35da1790-0281-4af3-8b81-88560fc16a6c",
   "metadata": {},
   "outputs": [
    {
     "name": "stdout",
     "output_type": "stream",
     "text": [
      "About to save 'all-minilm'.\n",
      "This will spew a lot of text on the first run...\n"
     ]
    },
    {
     "name": "stderr",
     "output_type": "stream",
     "text": [
      "\u001b[?25lpulling manifest ⠙ \u001b[?25h\u001b[?25l\u001b[2K\u001b[1Gpulling manifest ⠹ \u001b[?25h\u001b[?25l\u001b[2K\u001b[1Gpulling manifest ⠹ \u001b[?25h\u001b[?25l\u001b[2K\u001b[1Gpulling manifest ⠼ \u001b[?25h\u001b[?25l\u001b[2K\u001b[1Gpulling manifest ⠼ \u001b[?25h\u001b[?25l\u001b[2K\u001b[1Gpulling manifest \n",
      "pulling 797b70c4edf8... 100% ▕████████████████▏  45 MB                         \n",
      "pulling c71d239df917... 100% ▕████████████████▏  11 KB                         \n",
      "pulling 85011998c600... 100% ▕████████████████▏   16 B                         \n",
      "pulling 548455b72658... 100% ▕████████████████▏  407 B                         \n",
      "verifying sha256 digest \n",
      "writing manifest \n",
      "success \u001b[?25h\n"
     ]
    }
   ],
   "source": [
    "import sys, os, time\n",
    "now = time.time\n",
    "\n",
    "from langchain_ollama import OllamaEmbeddings\n",
    "\n",
    "pull_ollama_model( \"all-minilm\" )\n",
    "\n",
    "local_embeddings = OllamaEmbeddings( model = \"all-minilm\" )"
   ]
  },
  {
   "cell_type": "markdown",
   "id": "fdd67496-84af-4d78-8e3d-1284822eed3a",
   "metadata": {},
   "source": [
    "## Populate document vector database (of pages)"
   ]
  },
  {
   "cell_type": "code",
   "execution_count": 10,
   "id": "91002b1f-26e3-488c-b3d3-e751d1f8f146",
   "metadata": {},
   "outputs": [],
   "source": [
    "import base64\n",
    "import io\n",
    "\n",
    "import fitz, pymupdf\n",
    "from PIL import Image\n",
    "\n",
    "\n",
    "def pdf_page_to_base64( pdf_path: str, page_number: int ):\n",
    "    zoom_x       = 1.5  # horizontal zoom\n",
    "    zoom_y       = 1.5  # vertical zoom\n",
    "    mat          = pymupdf.Matrix( zoom_x, zoom_y )\n",
    "    pdf_document = fitz.open( pdf_path )\n",
    "    page         = pdf_document.load_page(page_number - 1)  # input is one-indexed\n",
    "    pix          = page.get_pixmap( matrix = mat )\n",
    "    img          = Image.frombytes(\"RGB\", [pix.width, pix.height], pix.samples)\n",
    "    buffer       = io.BytesIO()\n",
    "    \n",
    "    img.save( buffer, format=\"PNG\" )\n",
    "\n",
    "    return base64.b64encode( buffer.getvalue() ).decode(\"utf-8\")"
   ]
  },
  {
   "cell_type": "code",
   "execution_count": 11,
   "id": "571f7d54-8795-4b9b-8a8c-66459c4e9d60",
   "metadata": {},
   "outputs": [
    {
     "name": "stdout",
     "output_type": "stream",
     "text": [
      ".................MuPDF error: syntax error: cannot find ExtGState resource 'a0'\n",
      "\n",
      "MuPDF error: syntax error: cannot find ExtGState resource 'a0'\n",
      "\n",
      "MuPDF error: syntax error: cannot find ExtGState resource 'a0'\n",
      "\n",
      "MuPDF error: syntax error: cannot find ExtGState resource 'a0'\n",
      "\n",
      "MuPDF error: syntax error: cannot find ExtGState resource 'a0'\n",
      "\n",
      "MuPDF error: syntax error: cannot find ExtGState resource 'a0'\n",
      "\n",
      "MuPDF error: syntax error: cannot find ExtGState resource 'a0'\n",
      "\n",
      "MuPDF error: syntax error: cannot find ExtGState resource 'a0'\n",
      "\n",
      "MuPDF error: syntax error: cannot find ExtGState resource 'a0'\n",
      "\n",
      "MuPDF error: syntax error: cannot find ExtGState resource 'a0'\n",
      "\n",
      "MuPDF error: syntax error: cannot find ExtGState resource 'a0'\n",
      "\n",
      "MuPDF error: syntax error: cannot find ExtGState resource 'a0'\n",
      "\n",
      "MuPDF error: syntax error: cannot find ExtGState resource 'a0'\n",
      "\n",
      "MuPDF error: syntax error: cannot find ExtGState resource 'a0'\n",
      "\n",
      "MuPDF error: syntax error: cannot find ExtGState resource 'a0'\n",
      "\n",
      "MuPDF error: syntax error: cannot find ExtGState resource 'a0'\n",
      "\n",
      "MuPDF error: syntax error: cannot find ExtGState resource 'a0'\n",
      "\n",
      "MuPDF error: syntax error: cannot find ExtGState resource 'a0'\n",
      "\n",
      "MuPDF error: syntax error: cannot find ExtGState resource 'a0'\n",
      "\n",
      "MuPDF error: syntax error: cannot find ExtGState resource 'a0'\n",
      "\n",
      "MuPDF error: syntax error: cannot find ExtGState resource 'a0'\n",
      "\n",
      "MuPDF error: syntax error: cannot find ExtGState resource 'a0'\n",
      "\n",
      "MuPDF error: syntax error: cannot find ExtGState resource 'a0'\n",
      "\n",
      "MuPDF error: syntax error: cannot find ExtGState resource 'a0'\n",
      "\n",
      "MuPDF error: syntax error: cannot find ExtGState resource 'a0'\n",
      "\n",
      "MuPDF error: syntax error: cannot find ExtGState resource 'a0'\n",
      "\n",
      "MuPDF error: syntax error: cannot find ExtGState resource 'a0'\n",
      "\n",
      "MuPDF error: syntax error: cannot find ExtGState resource 'a0'\n",
      "\n",
      "MuPDF error: syntax error: cannot find ExtGState resource 'a0'\n",
      "\n",
      "MuPDF error: syntax error: cannot find ExtGState resource 'a0'\n",
      "\n",
      "MuPDF error: syntax error: cannot find ExtGState resource 'a0'\n",
      "\n",
      "MuPDF error: syntax error: cannot find ExtGState resource 'a0'\n",
      "\n",
      "MuPDF error: syntax error: cannot find ExtGState resource 'a0'\n",
      "\n",
      "..\n"
     ]
    },
    {
     "name": "stderr",
     "output_type": "stream",
     "text": [
      "/home/james/.cache/chroma/onnx_models/all-MiniLM-L6-v2/onnx.tar.gz: 100%|█████████████████████████████| 79.3M/79.3M [00:01<00:00, 54.6MiB/s]\n"
     ]
    },
    {
     "name": "stdout",
     "output_type": "stream",
     "text": [
      "Added 932 documents in 2.24 minutes!\n"
     ]
    }
   ],
   "source": [
    "import pickle\n",
    "\n",
    "if not path.exists( environ[\"_RAG_PAGE_DESTN\"] ):\n",
    "    makedirs( environ[\"_RAG_PAGE_DESTN\"] )\n",
    "\n",
    "\n",
    "def get_page_meta_key( source, page ):\n",
    "    \"\"\" Generate a (probably not) unique page key with useful data that can also be used for sorting \"\"\"\n",
    "    return str( source ).split('/')[-1].replace(' ','') + '_' + str( page )\n",
    "\n",
    "\n",
    "if int(environ[\"_RAG_DOCDB_REMAIN\"]) > 0:\n",
    "    bgn = now()\n",
    "    docIDs  = [str( gen_ID() ) for _ in range( len(pages) )]\n",
    "    dcmnts  = [str( pg.page_content ) for pg in pages]\n",
    "    metaDt  = deque() # Fast append\n",
    "    d       = 50\n",
    "    readSet = set([])\n",
    "\n",
    "    for i, pg in enumerate( pages ):\n",
    "\n",
    "        id_i  = docIDs[i]\n",
    "        \n",
    "        # Save Text Metadata #\n",
    "        mDct = pg.metadata\n",
    "        mDct['metakey'] = get_page_meta_key( pg.metadata['source'], pg.metadata['page'] )\n",
    "        mDct['docID'  ] = id_i\n",
    "        metaDt.append( mDct )\n",
    "\n",
    "        src = pg.metadata['source']\n",
    "\n",
    "        #  vv- Quick Search -vv     vvvvv--- Long Search ---vvvvvvvv\n",
    "        if (src not in readSet) and (src not in RAGstate['libDocs']):\n",
    "            readSet.add( src )\n",
    "            RAGstate['libDocs'].append( src )\n",
    "\n",
    "        # Save PDF Page image #\n",
    "        try:\n",
    "            pkl_i = path.join( environ[\"_RAG_PAGE_DESTN\"], f\"{id_i}.pkl\" )\n",
    "            pgPic = pdf_page_to_base64( pg.metadata['source'], pg.metadata['page'] )\n",
    "            \n",
    "            with open( pkl_i, 'wb' ) as f:\n",
    "                RAGstate['pages'][ id_i ] = str( pkl_i )\n",
    "                pickle.dump( pgPic, f )\n",
    "        except Exception as e:\n",
    "            print( f\"Could NOT save image ID {id_i}!, {e}\" )\n",
    "\n",
    "        if (i % d == 0):\n",
    "            print( '.', end='', flush = True )\n",
    "    print()\n",
    "\n",
    "    metaDt = list( metaDt )\n",
    "    \n",
    "    collection.add(\n",
    "        ids       = docIDs, \n",
    "        metadatas = metaDt,\n",
    "        documents = dcmnts\n",
    "    )\n",
    "    print( f\"Added {len(dcmnts)} documents in {(now()-bgn)/60.0:.2f} minutes!\" )\n",
    "\n",
    "save_state()\n",
    "\n"
   ]
  },
  {
   "cell_type": "markdown",
   "id": "db6c3459-9cfc-4e17-b249-172bce6cdf2a",
   "metadata": {},
   "source": [
    "# Create vector store"
   ]
  },
  {
   "cell_type": "code",
   "execution_count": 12,
   "id": "aa5000e0-162c-4f28-9f2b-1e896f42f924",
   "metadata": {},
   "outputs": [
    {
     "name": "stdout",
     "output_type": "stream",
     "text": [
      "Built vector store in 0.0032 seconds!\n"
     ]
    }
   ],
   "source": [
    "bgn = now()\n",
    "vector_store_from_client = Chroma(\n",
    "    client             = persistent_client,\n",
    "    collection_name    = environ[\"_RAG_DOC_DBASE\"],\n",
    "    embedding_function = local_embeddings,\n",
    ")\n",
    "print( f\"Built vector store in {(now()-bgn):.4f} seconds!\" )"
   ]
  },
  {
   "cell_type": "markdown",
   "id": "5de7fbc1-f2ba-4ad4-aef4-8bec59bca58d",
   "metadata": {},
   "source": [
    "# Load VLM"
   ]
  },
  {
   "cell_type": "code",
   "execution_count": 13,
   "id": "fbf9a2dc-a228-43c6-bd29-42247f7c9f41",
   "metadata": {},
   "outputs": [],
   "source": [
    "from langchain_ollama import ChatOllama\n",
    "\n",
    "if environ[\"_RAG_RUN_QUERY\"]:\n",
    "    pull_ollama_model( \"llava\" )\n",
    "    \n",
    "    llm = ChatOllama(\n",
    "        model=\"llava\",\n",
    "    )\n",
    "else:\n",
    "    llm = None"
   ]
  },
  {
   "cell_type": "markdown",
   "id": "f0461630-e0ca-4dfe-924f-ef19fb70d688",
   "metadata": {},
   "source": [
    "# Setup LangChain"
   ]
  },
  {
   "cell_type": "code",
   "execution_count": 14,
   "id": "cb6c1e36-8c5d-4191-9faa-d07f579578df",
   "metadata": {},
   "outputs": [],
   "source": [
    "os.environ[\"LANGCHAIN_TRACING_V1\"] = \"false\"\n",
    "os.environ[\"LANGCHAIN_TRACING_V2\"] = \"false\"\n",
    "\n",
    "if environ[\"_RAG_RUN_QUERY\"]:\n",
    "    # from langchain import hub\n",
    "    from langchain_core.runnables import RunnablePassthrough\n",
    "    from langchain_core.prompts import PromptTemplate\n",
    "    from langchain_core.output_parsers import StrOutputParser, JsonOutputParser\n",
    "    \n",
    "    # Retrieve and generate using the relevant snippets of the blog.\n",
    "    retriever = vector_store_from_client.as_retriever()\n",
    "    \n",
    "    # Instantiation using from_template (recommended)\n",
    "    prompt1 = PromptTemplate( \n",
    "        template = \"\"\"You are an expert assistant capable of interpreting textual information to provide accurate \n",
    "                      and detailed responses. You are provided with the following data:\n",
    "                      Context: {docData}\n",
    "                      Text query: {userQuery}\n",
    "                      Use your understanding of the provided context to generate a response to based on \n",
    "                      relevant, up-to-date information. Ensure your answer is factually accurate, detailed, and leverages academic \n",
    "                      sources where possible. If additional context is required for clarification, request it from the user.\"\"\",\n",
    "        input_variables = [\"docData\",\"userQuery\"],\n",
    "    )\n",
    "    \n",
    "    \n",
    "    def format_docs(docs):\n",
    "        return \"\\n\\n\".join(doc.page_content for doc in docs)\n",
    "    \n",
    "    rag_chain1 = (\n",
    "        { \"docData\": retriever | format_docs, \n",
    "          \"userQuery\": RunnablePassthrough()}\n",
    "        | prompt1\n",
    "        | llm\n",
    "        | StrOutputParser()\n",
    "    )"
   ]
  },
  {
   "cell_type": "code",
   "execution_count": 15,
   "id": "5855a5e1-58d6-4551-b78d-ad7b964c3e6f",
   "metadata": {},
   "outputs": [],
   "source": [
    "def ask_with_sources( q ):\n",
    "    retrieved_docs = retriever.invoke( q )\n",
    "    generated_ansr = rag_chain1.invoke( q )\n",
    "    return {\n",
    "        'response' : generated_ansr,\n",
    "        'sources'  : retrieved_docs,\n",
    "    }"
   ]
  },
  {
   "cell_type": "code",
   "execution_count": 16,
   "id": "444e3c3c-c046-4e1a-9604-b8409a5e9097",
   "metadata": {},
   "outputs": [],
   "source": [
    "def fetch_local_pages( sourceList ):\n",
    "    global RAGstate\n",
    "    rtnObjs = list()\n",
    "    for source in sourceList:\n",
    "        if source.metadata['docID'] in RAGstate['pages']:\n",
    "            pklPath = RAGstate['pages'][ source.metadata['docID'] ]\n",
    "            with open( pklPath, 'rb' ) as f:\n",
    "                obj_i = pickle.load( f )\n",
    "                rtnObjs.append( obj_i )\n",
    "        else:\n",
    "            print( f\"No page with ID {source.metadata['docID']}\" )\n",
    "    return rtnObjs"
   ]
  },
  {
   "cell_type": "code",
   "execution_count": 17,
   "id": "f94141ba-2bb3-4dc1-8063-dac1ebc4c9a0",
   "metadata": {},
   "outputs": [],
   "source": [
    "from pprint import pprint\n",
    "from IPython.display import Image as IPImage\n",
    "from IPython.display import display\n",
    "from langchain_core.messages import HumanMessage\n",
    "\n",
    "if environ[\"_RAG_RUN_QUERY\"]:\n",
    "    def deep_doc_ask( q ):\n",
    "        bgn = now()\n",
    "        res = ask_with_sources( q ) \n",
    "        pprint( res['response'] )\n",
    "        print( f\"Initial LLM summary took {now()-bgn:.2f} seconds to process!\" )\n",
    "        \n",
    "        pag = fetch_local_pages( res['sources'] )\n",
    "    \n",
    "        for p in pag:\n",
    "            display( IPImage( data = base64.b64decode( p ) ) )\n",
    "            message = HumanMessage(\n",
    "                content=[\n",
    "                    {\"type\": \"text\", \"text\": q},\n",
    "                    {\n",
    "                        \"type\": \"image_url\",\n",
    "                        \"image_url\": {\"url\": f\"data:image/jpeg;base64,{p}\"},\n",
    "                    },\n",
    "                ],\n",
    "            )\n",
    "            bgn = now()\n",
    "            response = llm.invoke( [message] )\n",
    "            print( f\"LLM query took {now()-bgn:.2f} seconds to process!\" )\n",
    "            pprint( response.content )"
   ]
  },
  {
   "cell_type": "code",
   "execution_count": 18,
   "id": "a979cf56-711a-4fc9-8961-6fe1ea5dc609",
   "metadata": {},
   "outputs": [],
   "source": [
    "if environ[\"_RAG_RUN_QUERY\"]:\n",
    "    deep_doc_ask( \"Describe the conditions necessary for nuclear fusion in a confined plasma.\" )"
   ]
  },
  {
   "cell_type": "code",
   "execution_count": null,
   "id": "48f180b5-5192-4a6b-bab0-056113ccfdb3",
   "metadata": {},
   "outputs": [],
   "source": []
  },
  {
   "cell_type": "code",
   "execution_count": null,
   "id": "49278e45-0731-427b-a86a-082e7a431e9c",
   "metadata": {},
   "outputs": [],
   "source": []
  },
  {
   "cell_type": "code",
   "execution_count": null,
   "id": "a87af5cf-40b1-4912-ae69-fd7d04565a62",
   "metadata": {},
   "outputs": [],
   "source": []
  },
  {
   "cell_type": "code",
   "execution_count": null,
   "id": "a1815ace-9adc-4c72-aaaf-d37d6f68ea0e",
   "metadata": {},
   "outputs": [],
   "source": []
  },
  {
   "cell_type": "code",
   "execution_count": null,
   "id": "cdcd0bce-e758-4e0b-a1b1-af1e361de2b5",
   "metadata": {},
   "outputs": [],
   "source": []
  },
  {
   "cell_type": "code",
   "execution_count": null,
   "id": "40f7d09c-38fe-45de-8dd2-254a9914bd16",
   "metadata": {},
   "outputs": [],
   "source": []
  },
  {
   "cell_type": "code",
   "execution_count": null,
   "id": "af5fb173-ae41-46bb-b930-8cff12c68006",
   "metadata": {},
   "outputs": [],
   "source": []
  },
  {
   "cell_type": "code",
   "execution_count": null,
   "id": "cea8ec26-bdc9-484e-b88d-e552b7bbee1c",
   "metadata": {},
   "outputs": [],
   "source": []
  }
 ],
 "metadata": {
  "kernelspec": {
   "display_name": "Python 3 (ipykernel)",
   "language": "python",
   "name": "python3"
  },
  "language_info": {
   "codemirror_mode": {
    "name": "ipython",
    "version": 3
   },
   "file_extension": ".py",
   "mimetype": "text/x-python",
   "name": "python",
   "nbconvert_exporter": "python",
   "pygments_lexer": "ipython3",
   "version": "3.10.12"
  }
 },
 "nbformat": 4,
 "nbformat_minor": 5
}
